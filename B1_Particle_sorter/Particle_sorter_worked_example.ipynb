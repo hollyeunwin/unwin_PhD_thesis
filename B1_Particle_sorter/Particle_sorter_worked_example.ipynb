{
 "cells": [
  {
   "cell_type": "markdown",
   "id": "884485f3-8796-490a-972f-f20025343ca7",
   "metadata": {
    "tags": []
   },
   "source": [
    "# Particle_sorter_worked_example\n",
    "\n",
    "#### This notebook file gives details of the Particle_sorter function that does the initial data processing\n",
    "\n",
    "NB: This notebook runs the Particle_sorter function for one inputted .csv file to demonstrate how it works. To combine data from multiple nested images the Particle_sorter function is run multiple times in a loop - see notebook Particle_size_analysis.ipynb for details.\n",
    "\n",
    "This notebook contains the code in full, including the functions within it (bin_creator, size_filter and normalise_data) that can be found in Particle_functions_area_fixed.py"
   ]
  },
  {
   "cell_type": "code",
   "execution_count": 1,
   "id": "240b20bf-cb65-4123-993f-48ebbb93d598",
   "metadata": {
    "tags": []
   },
   "outputs": [],
   "source": [
    "import pandas as pd\n",
    "import numpy as np\n",
    "from pandas import Series\n",
    "from pandas import DataFrame\n",
    "import matplotlib.pyplot as plt\n",
    "import math\n",
    "from textwrap import wrap\n",
    "\n",
    "from Particle_functions import bin_creator\n",
    "from Particle_functions import size_filter\n",
    "from Particle_functions import normalise_data\n",
    "from Particle_errors import MinBinTooBig"
   ]
  },
  {
   "cell_type": "markdown",
   "id": "626b4507-3b0b-4efa-a1f5-ad38634da1f6",
   "metadata": {},
   "source": [
    "# 1. Inputting particle size data"
   ]
  },
  {
   "cell_type": "markdown",
   "id": "bde9b09e-67c5-4b9f-9e81-aecb1ce732b0",
   "metadata": {},
   "source": [
    "Import the file outputted from ImageJ/Fiji (only for demo purposes so this notebook can produce outputs - see notebook Particle_size_analysis.ipynb to see how to input data for multiple images)."
   ]
  },
  {
   "cell_type": "code",
   "execution_count": 2,
   "id": "dc123271-e7ed-4814-929e-4e2ceae9497e",
   "metadata": {
    "tags": []
   },
   "outputs": [
    {
     "data": {
      "text/html": [
       "<div>\n",
       "<style scoped>\n",
       "    .dataframe tbody tr th:only-of-type {\n",
       "        vertical-align: middle;\n",
       "    }\n",
       "\n",
       "    .dataframe tbody tr th {\n",
       "        vertical-align: top;\n",
       "    }\n",
       "\n",
       "    .dataframe thead th {\n",
       "        text-align: right;\n",
       "    }\n",
       "</style>\n",
       "<table border=\"1\" class=\"dataframe\">\n",
       "  <thead>\n",
       "    <tr style=\"text-align: right;\">\n",
       "      <th></th>\n",
       "      <th></th>\n",
       "      <th>Area</th>\n",
       "      <th>Major</th>\n",
       "      <th>Minor</th>\n",
       "      <th>Angle</th>\n",
       "      <th>Circ.</th>\n",
       "      <th>Feret</th>\n",
       "      <th>FeretX</th>\n",
       "      <th>FeretY</th>\n",
       "      <th>FeretAngle</th>\n",
       "      <th>MinFeret</th>\n",
       "      <th>AR</th>\n",
       "      <th>Round</th>\n",
       "      <th>Solidity</th>\n",
       "    </tr>\n",
       "  </thead>\n",
       "  <tbody>\n",
       "    <tr>\n",
       "      <th>0</th>\n",
       "      <td>1</td>\n",
       "      <td>0.812</td>\n",
       "      <td>1.484</td>\n",
       "      <td>0.697</td>\n",
       "      <td>60.215</td>\n",
       "      <td>0.743</td>\n",
       "      <td>1.508</td>\n",
       "      <td>291</td>\n",
       "      <td>260</td>\n",
       "      <td>60.124</td>\n",
       "      <td>0.733</td>\n",
       "      <td>2.129</td>\n",
       "      <td>0.470</td>\n",
       "      <td>0.953</td>\n",
       "    </tr>\n",
       "    <tr>\n",
       "      <th>1</th>\n",
       "      <td>2</td>\n",
       "      <td>0.853</td>\n",
       "      <td>1.059</td>\n",
       "      <td>1.026</td>\n",
       "      <td>166.796</td>\n",
       "      <td>0.911</td>\n",
       "      <td>1.091</td>\n",
       "      <td>485</td>\n",
       "      <td>212</td>\n",
       "      <td>109.359</td>\n",
       "      <td>1.034</td>\n",
       "      <td>1.033</td>\n",
       "      <td>0.968</td>\n",
       "      <td>0.961</td>\n",
       "    </tr>\n",
       "    <tr>\n",
       "      <th>2</th>\n",
       "      <td>3</td>\n",
       "      <td>1.715</td>\n",
       "      <td>1.763</td>\n",
       "      <td>1.238</td>\n",
       "      <td>142.296</td>\n",
       "      <td>0.850</td>\n",
       "      <td>1.762</td>\n",
       "      <td>557</td>\n",
       "      <td>228</td>\n",
       "      <td>158.703</td>\n",
       "      <td>1.251</td>\n",
       "      <td>1.424</td>\n",
       "      <td>0.702</td>\n",
       "      <td>0.959</td>\n",
       "    </tr>\n",
       "    <tr>\n",
       "      <th>3</th>\n",
       "      <td>4</td>\n",
       "      <td>0.527</td>\n",
       "      <td>0.986</td>\n",
       "      <td>0.680</td>\n",
       "      <td>105.799</td>\n",
       "      <td>0.853</td>\n",
       "      <td>1.039</td>\n",
       "      <td>865</td>\n",
       "      <td>212</td>\n",
       "      <td>110.376</td>\n",
       "      <td>0.696</td>\n",
       "      <td>1.448</td>\n",
       "      <td>0.690</td>\n",
       "      <td>0.960</td>\n",
       "    </tr>\n",
       "    <tr>\n",
       "      <th>4</th>\n",
       "      <td>5</td>\n",
       "      <td>1.355</td>\n",
       "      <td>1.644</td>\n",
       "      <td>1.050</td>\n",
       "      <td>127.455</td>\n",
       "      <td>0.851</td>\n",
       "      <td>1.648</td>\n",
       "      <td>1038</td>\n",
       "      <td>214</td>\n",
       "      <td>127.451</td>\n",
       "      <td>1.043</td>\n",
       "      <td>1.566</td>\n",
       "      <td>0.639</td>\n",
       "      <td>0.967</td>\n",
       "    </tr>\n",
       "  </tbody>\n",
       "</table>\n",
       "</div>"
      ],
      "text/plain": [
       "       Area  Major  Minor    Angle  Circ.  Feret  FeretX  FeretY  FeretAngle  \\\n",
       "0  1  0.812  1.484  0.697   60.215  0.743  1.508     291     260      60.124   \n",
       "1  2  0.853  1.059  1.026  166.796  0.911  1.091     485     212     109.359   \n",
       "2  3  1.715  1.763  1.238  142.296  0.850  1.762     557     228     158.703   \n",
       "3  4  0.527  0.986  0.680  105.799  0.853  1.039     865     212     110.376   \n",
       "4  5  1.355  1.644  1.050  127.455  0.851  1.648    1038     214     127.451   \n",
       "\n",
       "   MinFeret     AR  Round  Solidity  \n",
       "0     0.733  2.129  0.470     0.953  \n",
       "1     1.034  1.033  0.968     0.961  \n",
       "2     1.251  1.424  0.702     0.959  \n",
       "3     0.696  1.448  0.690     0.960  \n",
       "4     1.043  1.566  0.639     0.967  "
      ]
     },
     "execution_count": 2,
     "metadata": {},
     "output_type": "execute_result"
    }
   ],
   "source": [
    "file_path = 'Results.csv'\n",
    "\n",
    "# insert file name in the format \n",
    "# pd.read_csv(r'Path to your file name here\\File name'.csv)\n",
    "size_data = pd.read_csv(file_path)\n",
    "\n",
    "# Displays only first 5 rows of dataframe size_data\n",
    "size_data.head(5)"
   ]
  },
  {
   "cell_type": "markdown",
   "id": "7b6339a9-9444-4fa2-8dc7-4e17a1ffac6f",
   "metadata": {},
   "source": [
    "Give the image area and scale of image to allow data to be filtered (for demo purposes only - normally inputted as part of file_list.txt. See Particle_size_analysis.ipynb)."
   ]
  },
  {
   "cell_type": "code",
   "execution_count": 3,
   "id": "ae4e352d-5080-4aa0-a386-5bf04d28a3a1",
   "metadata": {},
   "outputs": [],
   "source": [
    "im_area = 3600 # um^2   Give area of image here\n",
    "pix_per_um = 36 # scale of the image in pixels per micron\n",
    "\n",
    "# Give minimum pixel diameter of particles to consider\n",
    "min_size_threshold = 10 "
   ]
  },
  {
   "cell_type": "markdown",
   "id": "10cf5e0e-04a6-40aa-9c20-7df92fba3eb1",
   "metadata": {},
   "source": [
    "&nbsp;   \n",
    "&nbsp;   \n",
    "***\n",
    "# 2. Filtering particle size data\n",
    "\n",
    "Particles that are too big to be properly represented or too small to be seen need to be filtered from the data. Particles > 1% of the image area or < 10 pixels across are discarded.\n",
    "\n",
    "This is the code for the size_filter function found in Particle_functions_area.py"
   ]
  },
  {
   "cell_type": "code",
   "execution_count": 4,
   "id": "cd59b135-ef39-4201-998c-d2fb77bf9ef1",
   "metadata": {},
   "outputs": [
    {
     "name": "stdout",
     "output_type": "stream",
     "text": [
      "Particles smaller than 0.1 um^2 in area will be discarded.\n",
      "Particles larger than 36.0  um^2 will also be discarded.\n"
     ]
    }
   ],
   "source": [
    "# Changing minimum particle diameter above from \n",
    "# pixels into microns\n",
    "min_area = (min_size_threshold /(2*pix_per_um))**2 * math.pi \n",
    "\n",
    "max_area = round(im_area / 100 , 1) # An area > 1% of the total image area\n",
    "\n",
    "print(\"Particles smaller than\", round(min_area,1), \\\n",
    "      \"um^2 in area will be discarded.\") \n",
    "print(\"Particles larger than\", max_area, \\\n",
    "      \" um^2 will also be discarded.\")"
   ]
  },
  {
   "cell_type": "markdown",
   "id": "d84c5132-ffb4-47e0-8157-2940f2c3429d",
   "metadata": {},
   "source": [
    "The equivalent diameters of each particles are calculated from the area data."
   ]
  },
  {
   "cell_type": "code",
   "execution_count": 5,
   "id": "57369980-8b1e-4bc7-bd82-a5b599ed0c8f",
   "metadata": {},
   "outputs": [
    {
     "data": {
      "text/html": [
       "<div>\n",
       "<style scoped>\n",
       "    .dataframe tbody tr th:only-of-type {\n",
       "        vertical-align: middle;\n",
       "    }\n",
       "\n",
       "    .dataframe tbody tr th {\n",
       "        vertical-align: top;\n",
       "    }\n",
       "\n",
       "    .dataframe thead th {\n",
       "        text-align: right;\n",
       "    }\n",
       "</style>\n",
       "<table border=\"1\" class=\"dataframe\">\n",
       "  <thead>\n",
       "    <tr style=\"text-align: right;\">\n",
       "      <th></th>\n",
       "      <th></th>\n",
       "      <th>Area</th>\n",
       "      <th>Major</th>\n",
       "      <th>Minor</th>\n",
       "      <th>Angle</th>\n",
       "      <th>Circ.</th>\n",
       "      <th>Feret</th>\n",
       "      <th>FeretX</th>\n",
       "      <th>FeretY</th>\n",
       "      <th>FeretAngle</th>\n",
       "      <th>MinFeret</th>\n",
       "      <th>AR</th>\n",
       "      <th>Round</th>\n",
       "      <th>Solidity</th>\n",
       "      <th>Eq Di</th>\n",
       "    </tr>\n",
       "  </thead>\n",
       "  <tbody>\n",
       "    <tr>\n",
       "      <th>0</th>\n",
       "      <td>1</td>\n",
       "      <td>0.812</td>\n",
       "      <td>1.484</td>\n",
       "      <td>0.697</td>\n",
       "      <td>60.215</td>\n",
       "      <td>0.743</td>\n",
       "      <td>1.508</td>\n",
       "      <td>291</td>\n",
       "      <td>260</td>\n",
       "      <td>60.124</td>\n",
       "      <td>0.733</td>\n",
       "      <td>2.129</td>\n",
       "      <td>0.470</td>\n",
       "      <td>0.953</td>\n",
       "      <td>1.016794</td>\n",
       "    </tr>\n",
       "    <tr>\n",
       "      <th>1</th>\n",
       "      <td>2</td>\n",
       "      <td>0.853</td>\n",
       "      <td>1.059</td>\n",
       "      <td>1.026</td>\n",
       "      <td>166.796</td>\n",
       "      <td>0.911</td>\n",
       "      <td>1.091</td>\n",
       "      <td>485</td>\n",
       "      <td>212</td>\n",
       "      <td>109.359</td>\n",
       "      <td>1.034</td>\n",
       "      <td>1.033</td>\n",
       "      <td>0.968</td>\n",
       "      <td>0.961</td>\n",
       "      <td>1.042148</td>\n",
       "    </tr>\n",
       "    <tr>\n",
       "      <th>2</th>\n",
       "      <td>3</td>\n",
       "      <td>1.715</td>\n",
       "      <td>1.763</td>\n",
       "      <td>1.238</td>\n",
       "      <td>142.296</td>\n",
       "      <td>0.850</td>\n",
       "      <td>1.762</td>\n",
       "      <td>557</td>\n",
       "      <td>228</td>\n",
       "      <td>158.703</td>\n",
       "      <td>1.251</td>\n",
       "      <td>1.424</td>\n",
       "      <td>0.702</td>\n",
       "      <td>0.959</td>\n",
       "      <td>1.477703</td>\n",
       "    </tr>\n",
       "    <tr>\n",
       "      <th>3</th>\n",
       "      <td>4</td>\n",
       "      <td>0.527</td>\n",
       "      <td>0.986</td>\n",
       "      <td>0.680</td>\n",
       "      <td>105.799</td>\n",
       "      <td>0.853</td>\n",
       "      <td>1.039</td>\n",
       "      <td>865</td>\n",
       "      <td>212</td>\n",
       "      <td>110.376</td>\n",
       "      <td>0.696</td>\n",
       "      <td>1.448</td>\n",
       "      <td>0.690</td>\n",
       "      <td>0.960</td>\n",
       "      <td>0.819144</td>\n",
       "    </tr>\n",
       "    <tr>\n",
       "      <th>4</th>\n",
       "      <td>5</td>\n",
       "      <td>1.355</td>\n",
       "      <td>1.644</td>\n",
       "      <td>1.050</td>\n",
       "      <td>127.455</td>\n",
       "      <td>0.851</td>\n",
       "      <td>1.648</td>\n",
       "      <td>1038</td>\n",
       "      <td>214</td>\n",
       "      <td>127.451</td>\n",
       "      <td>1.043</td>\n",
       "      <td>1.566</td>\n",
       "      <td>0.639</td>\n",
       "      <td>0.967</td>\n",
       "      <td>1.313484</td>\n",
       "    </tr>\n",
       "  </tbody>\n",
       "</table>\n",
       "</div>"
      ],
      "text/plain": [
       "       Area  Major  Minor    Angle  Circ.  Feret  FeretX  FeretY  FeretAngle  \\\n",
       "0  1  0.812  1.484  0.697   60.215  0.743  1.508     291     260      60.124   \n",
       "1  2  0.853  1.059  1.026  166.796  0.911  1.091     485     212     109.359   \n",
       "2  3  1.715  1.763  1.238  142.296  0.850  1.762     557     228     158.703   \n",
       "3  4  0.527  0.986  0.680  105.799  0.853  1.039     865     212     110.376   \n",
       "4  5  1.355  1.644  1.050  127.455  0.851  1.648    1038     214     127.451   \n",
       "\n",
       "   MinFeret     AR  Round  Solidity     Eq Di  \n",
       "0     0.733  2.129  0.470     0.953  1.016794  \n",
       "1     1.034  1.033  0.968     0.961  1.042148  \n",
       "2     1.251  1.424  0.702     0.959  1.477703  \n",
       "3     0.696  1.448  0.690     0.960  0.819144  \n",
       "4     1.043  1.566  0.639     0.967  1.313484  "
      ]
     },
     "execution_count": 5,
     "metadata": {},
     "output_type": "execute_result"
    }
   ],
   "source": [
    "# Calculates the equivalent diameter from the area of each particle\n",
    "Eq_di = (size_data[\"Area\"] / math.pi) ** (1/2) *2 \n",
    "\n",
    "# Copies dataframe size_data to allow \n",
    "# calculated equivalent diameter data to be added\n",
    "size_data=size_data.copy() \n",
    "\n",
    "# places equivalent diameter (Eq Di) column into dataframe\n",
    "size_data[\"Eq Di\"] = Eq_di \n",
    "\n",
    "size_data.head(5) # Displays first 5 rows of dataframe size_data"
   ]
  },
  {
   "cell_type": "markdown",
   "id": "8f198528-7ee7-4256-ae18-35562d6242f5",
   "metadata": {},
   "source": [
    "The calculated size thresholds are then used to filter out any data that is too large or too small and the area of measured particles is calculated.\n",
    "\n",
    "The area of measured particles is considered to be the total area of particles excluding those that have been filtered from the data for being too large. Particles filtered out for being too small are considered to still be in the pore space between the other particles and so are not removed from the total area measured."
   ]
  },
  {
   "cell_type": "code",
   "execution_count": 6,
   "id": "96fd2912-5948-4be7-a2ed-19e9bdbf19ce",
   "metadata": {},
   "outputs": [
    {
     "name": "stdout",
     "output_type": "stream",
     "text": [
      "A total particle area of 124.8 um^2 has been measured in the image\n"
     ]
    }
   ],
   "source": [
    "# Finds the total area of all measured particles \n",
    "# before filtering takes place\n",
    "total_area = round(sum(size_data[\"Area\"]), 1)\n",
    "print(\"A total particle area of\", total_area, \"um^2 has been \\\n",
    "measured in the image\")\n"
   ]
  },
  {
   "cell_type": "code",
   "execution_count": 7,
   "id": "be2e9647-3117-4506-b396-a9f0160b1b92",
   "metadata": {},
   "outputs": [],
   "source": [
    "# Filters out any values that are too big\n",
    "data_not_bigs = size_data[ size_data[\"Area\"] < max_area ] \n",
    "\n",
    "# Calculates the number of particles that are filtered \n",
    "# out for being too big\n",
    "too_big = len(size_data) - len(data_not_bigs)\n",
    "\n",
    "# Calculates the total area of all remaining particles \n",
    "# now particles too large have been removed\n",
    "total_area_not_bigs = round(sum(data_not_bigs[\"Area\"]),1) \n",
    "\n",
    "# Calculates the area of particles >1% image area that are excluded\n",
    "area_too_big = total_area - total_area_not_bigs "
   ]
  },
  {
   "cell_type": "code",
   "execution_count": 8,
   "id": "a748a26a-469f-4a4a-978b-8b617c97ca41",
   "metadata": {},
   "outputs": [],
   "source": [
    "# Filters out any values that are too small\n",
    "filtered_data = data_not_bigs[ data_not_bigs[\"Area\"] > min_area] \n",
    "\n",
    "# Calculates the number of particles that are filtered \n",
    "# out for being too small\n",
    "too_small = len(data_not_bigs) - len(filtered_data) \n"
   ]
  },
  {
   "cell_type": "code",
   "execution_count": 9,
   "id": "51289d51-fb07-403a-8e0f-be5158005231",
   "metadata": {},
   "outputs": [
    {
     "name": "stdout",
     "output_type": "stream",
     "text": [
      "Filtering has removed 1 particles from the data.\n",
      "1 particles were smaller than 10 pixels across.\n",
      "0 particles were larger than 1% of the image area\n",
      "The remaining area of particles once those too large are removed is 124.8 um^2\n",
      "There are 84 particles remaining\n"
     ]
    }
   ],
   "source": [
    "# Calculates the total number of removed particles\n",
    "no_removed = too_small + too_big \n",
    "particles_remaining = len(size_data) - no_removed\n",
    "\n",
    "print(f\"Filtering has removed {no_removed} particles from the data.\")\n",
    "print(f\"{too_small} particles were smaller than 10 pixels across.\")\n",
    "print(f\"{too_big} particles were larger than 1% of the image area\")\n",
    "print(\"The remaining area of particles once those too large are \\\n",
    "removed is\", total_area_not_bigs, \"um^2\")\n",
    "print(\"There are\", particles_remaining, \"particles remaining\")"
   ]
  },
  {
   "cell_type": "markdown",
   "id": "e997f0ff-c638-44f1-a953-3040f8c36c44",
   "metadata": {},
   "source": [
    "&nbsp;   \n",
    "&nbsp;  \n",
    "***\n",
    "# 3. Sort data in equivalent diameter bins\n",
    "\n",
    "The data are sorted into geometric bins, each $10^{0.1}$ larger than the previous bin. Geometric bins are chosen so that the stereological conversion is simpler (Sahagrian & Proussevitch, 1998).  \n",
    "The first (smallest) bin is taken to be the minimum size threshold, beneath which any data has been filtered out.\n",
    "\n",
    "This is the code for bin_creator found in Particle_functions_area.py"
   ]
  },
  {
   "cell_type": "code",
   "execution_count": 10,
   "id": "858554e1-6e7f-48d2-94b4-cd6e4d3813df",
   "metadata": {},
   "outputs": [],
   "source": [
    "bins = np.zeros(46) # Creates empty array of bins to iterate over below\n",
    "# 10^(bin_multiplier) gives the size of the next bin \n",
    "# (See Sahagrian & Proussevitch, 1998)\n",
    "bin_multiplier = 0.1 \n",
    "\n",
    "\n",
    "# The first bin value is the minimum diameter \n",
    "# (10 / scale of the image, as calculated above)\n",
    "bins[0] = min_area \n",
    "# The 2nd bin is 10^(bin_multiplier) larger than the first bin\n",
    "bins[1] = bins[0] * (10**bin_multiplier) \n",
    "\n",
    "for index, value in enumerate(bins): # Creates geometric bins\n",
    "    if index < len(bins)-1:\n",
    "        bins[index+1] = value * 10**bin_multiplier  "
   ]
  },
  {
   "cell_type": "code",
   "execution_count": 11,
   "id": "2c93eee9-2238-4dc8-8c4c-dab1ad23858c",
   "metadata": {},
   "outputs": [
    {
     "data": {
      "text/html": [
       "<div>\n",
       "<style scoped>\n",
       "    .dataframe tbody tr th:only-of-type {\n",
       "        vertical-align: middle;\n",
       "    }\n",
       "\n",
       "    .dataframe tbody tr th {\n",
       "        vertical-align: top;\n",
       "    }\n",
       "\n",
       "    .dataframe thead th {\n",
       "        text-align: right;\n",
       "    }\n",
       "</style>\n",
       "<table border=\"1\" class=\"dataframe\">\n",
       "  <thead>\n",
       "    <tr style=\"text-align: right;\">\n",
       "      <th></th>\n",
       "      <th>Bins lower</th>\n",
       "      <th>Bins upper</th>\n",
       "    </tr>\n",
       "  </thead>\n",
       "  <tbody>\n",
       "    <tr>\n",
       "      <th>0</th>\n",
       "      <td>0.060602</td>\n",
       "      <td>0.076293</td>\n",
       "    </tr>\n",
       "    <tr>\n",
       "      <th>1</th>\n",
       "      <td>0.076293</td>\n",
       "      <td>0.096047</td>\n",
       "    </tr>\n",
       "    <tr>\n",
       "      <th>2</th>\n",
       "      <td>0.096047</td>\n",
       "      <td>0.120916</td>\n",
       "    </tr>\n",
       "    <tr>\n",
       "      <th>3</th>\n",
       "      <td>0.120916</td>\n",
       "      <td>0.152225</td>\n",
       "    </tr>\n",
       "    <tr>\n",
       "      <th>4</th>\n",
       "      <td>0.152225</td>\n",
       "      <td>0.191639</td>\n",
       "    </tr>\n",
       "  </tbody>\n",
       "</table>\n",
       "</div>"
      ],
      "text/plain": [
       "   Bins lower  Bins upper\n",
       "0    0.060602    0.076293\n",
       "1    0.076293    0.096047\n",
       "2    0.096047    0.120916\n",
       "3    0.120916    0.152225\n",
       "4    0.152225    0.191639"
      ]
     },
     "execution_count": 11,
     "metadata": {},
     "output_type": "execute_result"
    }
   ],
   "source": [
    "# Bin edges are sorted into lower and upper bounds\n",
    "# to display each bin clearly\n",
    "bins_lower = bins[:-1] \n",
    "bins_upper = bins[1:]\n",
    "\n",
    "# Bin edges are placed in the dataframe bins_df\n",
    "bins_df = pd.DataFrame(data = bins_lower, columns = ['Bins lower']) \n",
    "bins_df['Bins upper'] = bins_upper\n",
    "bins_df.head(5)"
   ]
  },
  {
   "cell_type": "markdown",
   "id": "f21f58a7-5a67-4f3f-b15b-a2e92f50aedf",
   "metadata": {},
   "source": [
    "The data can then be sorted into the created bins."
   ]
  },
  {
   "cell_type": "code",
   "execution_count": 12,
   "id": "d413a776-eb75-406b-b24c-75da032ea72c",
   "metadata": {},
   "outputs": [
    {
     "name": "stdout",
     "output_type": "stream",
     "text": [
      "All data binned successfully\n"
     ]
    },
    {
     "data": {
      "text/html": [
       "<div>\n",
       "<style scoped>\n",
       "    .dataframe tbody tr th:only-of-type {\n",
       "        vertical-align: middle;\n",
       "    }\n",
       "\n",
       "    .dataframe tbody tr th {\n",
       "        vertical-align: top;\n",
       "    }\n",
       "\n",
       "    .dataframe thead th {\n",
       "        text-align: right;\n",
       "    }\n",
       "</style>\n",
       "<table border=\"1\" class=\"dataframe\">\n",
       "  <thead>\n",
       "    <tr style=\"text-align: right;\">\n",
       "      <th></th>\n",
       "      <th>Bins lower</th>\n",
       "      <th>Bins upper</th>\n",
       "      <th>Counts</th>\n",
       "    </tr>\n",
       "  </thead>\n",
       "  <tbody>\n",
       "    <tr>\n",
       "      <th>0</th>\n",
       "      <td>0.060602</td>\n",
       "      <td>0.076293</td>\n",
       "      <td>0</td>\n",
       "    </tr>\n",
       "    <tr>\n",
       "      <th>1</th>\n",
       "      <td>0.076293</td>\n",
       "      <td>0.096047</td>\n",
       "      <td>0</td>\n",
       "    </tr>\n",
       "    <tr>\n",
       "      <th>2</th>\n",
       "      <td>0.096047</td>\n",
       "      <td>0.120916</td>\n",
       "      <td>0</td>\n",
       "    </tr>\n",
       "    <tr>\n",
       "      <th>3</th>\n",
       "      <td>0.120916</td>\n",
       "      <td>0.152225</td>\n",
       "      <td>1</td>\n",
       "    </tr>\n",
       "    <tr>\n",
       "      <th>4</th>\n",
       "      <td>0.152225</td>\n",
       "      <td>0.191639</td>\n",
       "      <td>0</td>\n",
       "    </tr>\n",
       "  </tbody>\n",
       "</table>\n",
       "</div>"
      ],
      "text/plain": [
       "   Bins lower  Bins upper  Counts\n",
       "0    0.060602    0.076293       0\n",
       "1    0.076293    0.096047       0\n",
       "2    0.096047    0.120916       0\n",
       "3    0.120916    0.152225       1\n",
       "4    0.152225    0.191639       0"
      ]
     },
     "execution_count": 12,
     "metadata": {},
     "output_type": "execute_result"
    }
   ],
   "source": [
    "# Places data into bins, outputting 2 arrays: \n",
    "# binned data (counts) and bins\n",
    "counts, bins_out = np.histogram(filtered_data[\"Area\"], bins) \n",
    "\n",
    "# Checks that numbered of pieces of data binned matches \n",
    "# the expected number of data points\n",
    "        \n",
    "if sum(counts) != len(filtered_data[\"Area\"]):\n",
    "    raise MinBinTooBig (min_bin_size)\n",
    "else:\n",
    "        print(\"All data binned successfully\")\n",
    "\n",
    "# Places the count for each bin into the dataframe bins_df\n",
    "bins_df['Counts'] = counts \n",
    "\n",
    "bins_df.head(5) # Displays the first 5 rows of the dataframe bins_df"
   ]
  },
  {
   "cell_type": "markdown",
   "id": "c2061e40",
   "metadata": {},
   "source": [
    "In this code the minimum bin size is set as the equivalent diameter of the particle of the minimum area that could be imaged. When combining different images (running this code in a loop in Particle_size_analysis.pynb) the bin size needs to be fixed across images. The minimum bin size is then defined by the user as an input and the code checks if the chosen minimum bin size will cause data to be discarded. If the minimum bin size is too large this causes an error and suggests to the user that they should reduce the minimum bin size."
   ]
  },
  {
   "cell_type": "code",
   "execution_count": 13,
   "id": "d94b5630-61c5-4365-af14-6a146507b717",
   "metadata": {},
   "outputs": [
    {
     "data": {
      "text/plain": [
       "Text(0.5, 1.0, 'Plot of particle areas')"
      ]
     },
     "execution_count": 13,
     "metadata": {},
     "output_type": "execute_result"
    },
    {
     "data": {
      "image/png": "[encoded data removed]",
      "text/plain": [
       "<Figure size 432x288 with 1 Axes>"
      ]
     },
     "metadata": {
      "needs_background": "light"
     },
     "output_type": "display_data"
    }
   ],
   "source": [
    "#Plots a histogram of the binned particle areas\n",
    "plt.hist(bins[:-1], bins, weights=counts, color='silver', \\\n",
    "         density = False, edgecolor='black',\n",
    "              linewidth=0.5) \n",
    "plt.xscale('log')\n",
    "plt.xlabel(\"Particle area, $\\mathregular{\\mu m^{2}}$\")\n",
    "plt.ylabel(\"Particle frequency\")\n",
    "#plt.xlim([1, 10**2])\n",
    "plt.title(\"Plot of particle areas\")"
   ]
  },
  {
   "cell_type": "code",
   "execution_count": 14,
   "id": "23566a84-e9dc-4693-b673-3376ca79665a",
   "metadata": {},
   "outputs": [
    {
     "name": "stdout",
     "output_type": "stream",
     "text": [
      "The geometric mean is 1.02\n"
     ]
    },
    {
     "data": {
      "text/plain": [
       "Text(0.85, 0.85, 'n = 84 \\n Mean = 1.0 $\\\\mathregular{\\\\mu}$m')"
      ]
     },
     "execution_count": 14,
     "metadata": {},
     "output_type": "execute_result"
    },
    {
     "data": {
      "image/png": "[encoded data removed]",
      "text/plain": [
       "<Figure size 432x288 with 1 Axes>"
      ]
     },
     "metadata": {
      "needs_background": "light"
     },
     "output_type": "display_data"
    }
   ],
   "source": [
    "#Finds the geometric mean of the data\n",
    "a = sum(counts*np.log10(bins[:-1]))/sum(counts)\n",
    "mean = 10**a\n",
    "print(\"The geometric mean is\", round(mean,2))\n",
    "\n",
    "#Plots same histogram now with the value for the geometric mean added\n",
    "ax = plt.figure()\n",
    "#Plots a histogram of the binned particle areas\n",
    "plt.hist(bins[:-1], bins, weights=counts, color='silver', \\\n",
    "         density = False, edgecolor='black', linewidth=0.5) \n",
    "plt.xscale('log')\n",
    "plt.xlabel(\"Particle area, $\\mathregular{\\mu m^{2}}$\")\n",
    "plt.ylabel(\"Particle frequency\")\n",
    "\n",
    "mean_y=[0.0, 15]\n",
    "plt.plot([mean, mean],mean_y, color='grey', linestyle='dashed')\n",
    "plt.ylim([0,15])\n",
    "microns = \"$\\mathregular{\\mu}$\"\n",
    "ax.text(.85, .85, f\"n = {particles_remaining} \\n \\\n",
    "Mean = {round(mean,1)} {microns}m\", horizontalalignment=\"right\", \\\n",
    "        verticalalignment=\"top\", bbox=dict(boxstyle = \"square\",\n",
    "                  facecolor = \"white\"))\n"
   ]
  },
  {
   "cell_type": "code",
   "execution_count": 15,
   "id": "12088bcd-27d6-415a-bf34-8c68d34c95c9",
   "metadata": {},
   "outputs": [],
   "source": [
    "#Outputs the filtered data as a .csv file    \n",
    "filtered_data.to_csv('filtered_data.csv', index=False)   "
   ]
  },
  {
   "cell_type": "markdown",
   "id": "2a117f2c-be28-434a-b326-c56c1370ea80",
   "metadata": {},
   "source": [
    "&nbsp;  \n",
    "&nbsp;  \n",
    "***\n",
    "\n",
    "# 4. Normalising data\n",
    "\n",
    "The total area of particles in each bin is normalised by the image area measured to reduce the bias of small particles. The image area to normalised by is taken as:\n"
   ]
  },
  {
   "cell_type": "markdown",
   "id": "fd7cafbe-5641-466a-b500-deba1a9707bc",
   "metadata": {},
   "source": [
    "Total particle area = total area of measured particles - area of large particles filtered out.\n"
   ]
  },
  {
   "cell_type": "markdown",
   "id": "9e072f52-022a-4779-bd27-736f129ce22d",
   "metadata": {},
   "source": [
    "The large particles that are not sufficiently represented in the image are not considered to be part of the measured area. Particles too small to measure are assumed to still be present in the pore space between measured particles, and so are still included in this total measured area.\n",
    "\n",
    "&nbsp;    \n",
    "First, the total area of particles sorted into each bin is calculated."
   ]
  },
  {
   "cell_type": "code",
   "execution_count": 16,
   "id": "6f022c59",
   "metadata": {},
   "outputs": [],
   "source": [
    "# Creates an array to hold the sum values of each bin\n",
    "total_bin_values = np.zeros(len(bins)-1) \n",
    "    \n",
    "for index in range(0,len(bins)-1):\n",
    "     # Takes values that are greater than or equal to the lower bin value\n",
    "    bin_total = filtered_data[filtered_data[\"Area\"] >= bins[index]] \n",
    "    \n",
    "    # Takes values that are less than the upper bin value\n",
    "    bin_total = bin_total[bin_total[\"Area\"] < bins[index+1]]\n",
    "    \n",
    "    # Sums the equivalent diameters for that bin\n",
    "    # and places into an array of sum values\n",
    "    total_bin_values[index]=sum(bin_total[\"Area\"])"
   ]
  },
  {
   "cell_type": "code",
   "execution_count": 17,
   "id": "b835a20b-bd5c-4e3d-8706-989ff3144ed0",
   "metadata": {},
   "outputs": [
    {
     "name": "stdout",
     "output_type": "stream",
     "text": [
      "The sum of each bin has been calculated successfully.\n"
     ]
    }
   ],
   "source": [
    "# Checks that the total area in each bin matches that expected   \n",
    "if round(sum(total_bin_values),1) == round(sum(filtered_data[\"Area\"]),1): \n",
    "    print(\"The sum of each bin has been calculated successfully.\")\n",
    "else: print(\"ERROR: bin totals not calculated correctly.\")"
   ]
  },
  {
   "cell_type": "code",
   "execution_count": 18,
   "id": "f443db73-f7dc-4cf6-a1b3-4a1e155e7816",
   "metadata": {},
   "outputs": [
    {
     "data": {
      "text/html": [
       "<div>\n",
       "<style scoped>\n",
       "    .dataframe tbody tr th:only-of-type {\n",
       "        vertical-align: middle;\n",
       "    }\n",
       "\n",
       "    .dataframe tbody tr th {\n",
       "        vertical-align: top;\n",
       "    }\n",
       "\n",
       "    .dataframe thead th {\n",
       "        text-align: right;\n",
       "    }\n",
       "</style>\n",
       "<table border=\"1\" class=\"dataframe\">\n",
       "  <thead>\n",
       "    <tr style=\"text-align: right;\">\n",
       "      <th></th>\n",
       "      <th>Bins lower</th>\n",
       "      <th>Bins upper</th>\n",
       "      <th>Counts</th>\n",
       "      <th>Total bin values</th>\n",
       "      <th>Normalised bin values</th>\n",
       "    </tr>\n",
       "  </thead>\n",
       "  <tbody>\n",
       "    <tr>\n",
       "      <th>0</th>\n",
       "      <td>0.060602</td>\n",
       "      <td>0.076293</td>\n",
       "      <td>0</td>\n",
       "      <td>0.000</td>\n",
       "      <td>0.000000</td>\n",
       "    </tr>\n",
       "    <tr>\n",
       "      <th>1</th>\n",
       "      <td>0.076293</td>\n",
       "      <td>0.096047</td>\n",
       "      <td>0</td>\n",
       "      <td>0.000</td>\n",
       "      <td>0.000000</td>\n",
       "    </tr>\n",
       "    <tr>\n",
       "      <th>2</th>\n",
       "      <td>0.096047</td>\n",
       "      <td>0.120916</td>\n",
       "      <td>0</td>\n",
       "      <td>0.000</td>\n",
       "      <td>0.000000</td>\n",
       "    </tr>\n",
       "    <tr>\n",
       "      <th>3</th>\n",
       "      <td>0.120916</td>\n",
       "      <td>0.152225</td>\n",
       "      <td>1</td>\n",
       "      <td>0.129</td>\n",
       "      <td>0.001034</td>\n",
       "    </tr>\n",
       "    <tr>\n",
       "      <th>4</th>\n",
       "      <td>0.152225</td>\n",
       "      <td>0.191639</td>\n",
       "      <td>0</td>\n",
       "      <td>0.000</td>\n",
       "      <td>0.000000</td>\n",
       "    </tr>\n",
       "  </tbody>\n",
       "</table>\n",
       "</div>"
      ],
      "text/plain": [
       "   Bins lower  Bins upper  Counts  Total bin values  Normalised bin values\n",
       "0    0.060602    0.076293       0             0.000               0.000000\n",
       "1    0.076293    0.096047       0             0.000               0.000000\n",
       "2    0.096047    0.120916       0             0.000               0.000000\n",
       "3    0.120916    0.152225       1             0.129               0.001034\n",
       "4    0.152225    0.191639       0             0.000               0.000000"
      ]
     },
     "execution_count": 18,
     "metadata": {},
     "output_type": "execute_result"
    }
   ],
   "source": [
    "# Normalises the bin totals calculated by the measured particle area\n",
    "normal_bin_values = total_bin_values / total_area_not_bigs \n",
    "\n",
    "# Places the calculated bin totals and normalised \n",
    "# values into the dataframe bins_df\n",
    "bins_df[\"Total bin values\"] = total_bin_values \n",
    "bins_df[\"Normalised bin values\"] = normal_bin_values\n",
    "\n",
    "bins_df.head(5) # Displays the first 5 values of bins_df"
   ]
  },
  {
   "cell_type": "code",
   "execution_count": 19,
   "id": "1fe51941",
   "metadata": {},
   "outputs": [
    {
     "data": {
      "text/plain": [
       "124.75300000000001"
      ]
     },
     "execution_count": 19,
     "metadata": {},
     "output_type": "execute_result"
    }
   ],
   "source": [
    "sum(bins_df[\"Total bin values\"])"
   ]
  },
  {
   "cell_type": "code",
   "execution_count": 20,
   "id": "95639b7f-8efb-4c7c-be05-11dfe4d7c36b",
   "metadata": {},
   "outputs": [
    {
     "data": {
      "text/plain": [
       "0.9996233974358976"
      ]
     },
     "execution_count": 20,
     "metadata": {},
     "output_type": "execute_result"
    }
   ],
   "source": [
    "sum(bins_df[\"Normalised bin values\"])"
   ]
  },
  {
   "cell_type": "code",
   "execution_count": 21,
   "id": "d03a6d5a",
   "metadata": {},
   "outputs": [
    {
     "data": {
      "text/plain": [
       "Text(0.5, 1.0, 'Plot of the fraction of measured particles within each bin')"
      ]
     },
     "execution_count": 21,
     "metadata": {},
     "output_type": "execute_result"
    },
    {
     "data": {
      "image/png": "[encoded data removed]",
      "text/plain": [
       "<Figure size 432x288 with 1 Axes>"
      ]
     },
     "metadata": {
      "needs_background": "light"
     },
     "output_type": "display_data"
    }
   ],
   "source": [
    "#Plots a histogram of the binned area data\n",
    "plt.figure()\n",
    "plt.hist(bins[:-1], bins, weights=normal_bin_values, \\\n",
    "         color='silver', density = False, \\\n",
    "         edgecolor='black',linewidth=0.5) \n",
    "plt.xscale('log')\n",
    "plt.xlabel(\"Particle area, microns\")\n",
    "plt.ylabel(\"Particle fraction\")\n",
    "plt.title(\"Plot of the fraction of measured particles within each bin\")"
   ]
  },
  {
   "cell_type": "code",
   "execution_count": 22,
   "id": "6a3f71c0",
   "metadata": {},
   "outputs": [
    {
     "name": "stdout",
     "output_type": "stream",
     "text": [
      "The geometric mean is 1.68\n"
     ]
    },
    {
     "data": {
      "text/plain": [
       "(0.0, 0.24220352564102565)"
      ]
     },
     "execution_count": 22,
     "metadata": {},
     "output_type": "execute_result"
    },
    {
     "data": {
      "image/png": "[encoded data removed]",
      "text/plain": [
       "<Figure size 432x288 with 1 Axes>"
      ]
     },
     "metadata": {
      "needs_background": "light"
     },
     "output_type": "display_data"
    }
   ],
   "source": [
    "#Finds the geometric mean of the data\n",
    "a = sum(normal_bin_values*np.log10(bins[:-1]))/sum(normal_bin_values)\n",
    "mean = 10**a\n",
    "print(\"The geometric mean is\", round(mean,2))\n",
    "\n",
    "#Plots the same histogram as above, now with the \n",
    "# value for the geometric mean added\n",
    "plt.hist(bins[:-1], bins, weights=normal_bin_values, \\\n",
    "         color='silver', density = False, edgecolor='black',\n",
    "              linewidth=0.5) #Plots the binned particle areas\n",
    "plt.xscale('log')\n",
    "plt.xlabel(\"Particle area, $\\mathregular{\\mu m^{2}}$\")\n",
    "plt.ylabel(\"Particle fraction\")\n",
    "\n",
    "mean_y=[0.0, 1]\n",
    "plt.plot([mean, mean],mean_y, color='grey', linestyle='dashed')\n",
    "plt.ylim([0,max(normal_bin_values)+0.05])"
   ]
  },
  {
   "cell_type": "markdown",
   "id": "1075da9e",
   "metadata": {},
   "source": [
    "This is now the final distribution for one of the images within the image nest. This code is run in a loop to produce distributions for each image in the image nest by running Particle_analysis, which then also combines those to produce a single distribution."
   ]
  }
 ],
 "metadata": {
  "kernelspec": {
   "display_name": "Python 3 (ipykernel)",
   "language": "python",
   "name": "python3"
  },
  "language_info": {
   "codemirror_mode": {
    "name": "ipython",
    "version": 3
   },
   "file_extension": ".py",
   "mimetype": "text/x-python",
   "name": "python",
   "nbconvert_exporter": "python",
   "pygments_lexer": "ipython3",
   "version": "3.9.7"
  }
 },
 "nbformat": 4,
 "nbformat_minor": 5
}
