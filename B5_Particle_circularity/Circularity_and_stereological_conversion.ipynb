{
 "cells": [
  {
   "cell_type": "markdown",
   "id": "2b2725b9-0852-4d1c-b6d7-ea803c5c0b0f",
   "metadata": {},
   "source": [
    "# Circularity, aspect ratios and area errors"
   ]
  },
  {
   "cell_type": "code",
   "execution_count": 1,
   "id": "2ac630bb-4d10-47b1-82b5-e769e7ecb2e7",
   "metadata": {},
   "outputs": [],
   "source": [
    "import pandas as pd\n",
    "import numpy as np\n",
    "from pandas import Series\n",
    "from pandas import DataFrame\n",
    "import matplotlib.pyplot as plt\n",
    "import math"
   ]
  },
  {
   "cell_type": "code",
   "execution_count": 2,
   "id": "a49ba6f7-239c-4c44-aa41-c456d9a44d07",
   "metadata": {},
   "outputs": [
    {
     "data": {
      "text/html": [
       "<div>\n",
       "<style scoped>\n",
       "    .dataframe tbody tr th:only-of-type {\n",
       "        vertical-align: middle;\n",
       "    }\n",
       "\n",
       "    .dataframe tbody tr th {\n",
       "        vertical-align: top;\n",
       "    }\n",
       "\n",
       "    .dataframe thead th {\n",
       "        text-align: right;\n",
       "    }\n",
       "</style>\n",
       "<table border=\"1\" class=\"dataframe\">\n",
       "  <thead>\n",
       "    <tr style=\"text-align: right;\">\n",
       "      <th></th>\n",
       "      <th>Area</th>\n",
       "      <th>Major</th>\n",
       "      <th>Minor</th>\n",
       "      <th>Angle</th>\n",
       "      <th>Circ.</th>\n",
       "      <th>Feret</th>\n",
       "      <th>FeretX</th>\n",
       "      <th>FeretY</th>\n",
       "      <th>FeretAngle</th>\n",
       "      <th>MinFeret</th>\n",
       "      <th>AR</th>\n",
       "      <th>Round</th>\n",
       "      <th>Solidity</th>\n",
       "    </tr>\n",
       "  </thead>\n",
       "  <tbody>\n",
       "    <tr>\n",
       "      <th>0</th>\n",
       "      <td>1.971</td>\n",
       "      <td>1.783</td>\n",
       "      <td>1.407</td>\n",
       "      <td>33.746</td>\n",
       "      <td>0.933</td>\n",
       "      <td>1.884</td>\n",
       "      <td>133</td>\n",
       "      <td>169</td>\n",
       "      <td>34.992</td>\n",
       "      <td>1.473</td>\n",
       "      <td>1.267</td>\n",
       "      <td>0.789</td>\n",
       "      <td>0.951</td>\n",
       "    </tr>\n",
       "    <tr>\n",
       "      <th>1</th>\n",
       "      <td>1.351</td>\n",
       "      <td>1.623</td>\n",
       "      <td>1.060</td>\n",
       "      <td>14.771</td>\n",
       "      <td>0.867</td>\n",
       "      <td>1.685</td>\n",
       "      <td>186</td>\n",
       "      <td>162</td>\n",
       "      <td>15.945</td>\n",
       "      <td>1.122</td>\n",
       "      <td>1.531</td>\n",
       "      <td>0.653</td>\n",
       "      <td>0.927</td>\n",
       "    </tr>\n",
       "    <tr>\n",
       "      <th>2</th>\n",
       "      <td>1.101</td>\n",
       "      <td>1.580</td>\n",
       "      <td>0.888</td>\n",
       "      <td>149.132</td>\n",
       "      <td>0.759</td>\n",
       "      <td>1.669</td>\n",
       "      <td>243</td>\n",
       "      <td>153</td>\n",
       "      <td>146.310</td>\n",
       "      <td>1.035</td>\n",
       "      <td>1.780</td>\n",
       "      <td>0.562</td>\n",
       "      <td>0.896</td>\n",
       "    </tr>\n",
       "    <tr>\n",
       "      <th>3</th>\n",
       "      <td>1.762</td>\n",
       "      <td>1.973</td>\n",
       "      <td>1.137</td>\n",
       "      <td>16.385</td>\n",
       "      <td>0.840</td>\n",
       "      <td>2.006</td>\n",
       "      <td>348</td>\n",
       "      <td>165</td>\n",
       "      <td>22.620</td>\n",
       "      <td>1.195</td>\n",
       "      <td>1.735</td>\n",
       "      <td>0.576</td>\n",
       "      <td>0.943</td>\n",
       "    </tr>\n",
       "    <tr>\n",
       "      <th>4</th>\n",
       "      <td>13.533</td>\n",
       "      <td>4.477</td>\n",
       "      <td>3.849</td>\n",
       "      <td>150.831</td>\n",
       "      <td>0.826</td>\n",
       "      <td>4.834</td>\n",
       "      <td>387</td>\n",
       "      <td>158</td>\n",
       "      <td>151.390</td>\n",
       "      <td>4.129</td>\n",
       "      <td>1.163</td>\n",
       "      <td>0.860</td>\n",
       "      <td>0.970</td>\n",
       "    </tr>\n",
       "  </tbody>\n",
       "</table>\n",
       "</div>"
      ],
      "text/plain": [
       "     Area  Major  Minor    Angle  Circ.  Feret  FeretX  FeretY  FeretAngle  \\\n",
       "0   1.971  1.783  1.407   33.746  0.933  1.884     133     169      34.992   \n",
       "1   1.351  1.623  1.060   14.771  0.867  1.685     186     162      15.945   \n",
       "2   1.101  1.580  0.888  149.132  0.759  1.669     243     153     146.310   \n",
       "3   1.762  1.973  1.137   16.385  0.840  2.006     348     165      22.620   \n",
       "4  13.533  4.477  3.849  150.831  0.826  4.834     387     158     151.390   \n",
       "\n",
       "   MinFeret     AR  Round  Solidity  \n",
       "0     1.473  1.267  0.789     0.951  \n",
       "1     1.122  1.531  0.653     0.927  \n",
       "2     1.035  1.780  0.562     0.896  \n",
       "3     1.195  1.735  0.576     0.943  \n",
       "4     4.129  1.163  0.860     0.970  "
      ]
     },
     "execution_count": 2,
     "metadata": {},
     "output_type": "execute_result"
    }
   ],
   "source": [
    "# Reads .csv containing all the particle data\n",
    "raw_data = pd.read_csv(\"All_particle_data.csv\")\n",
    "raw_data.head()"
   ]
  },
  {
   "cell_type": "markdown",
   "id": "c9e1e037-c9e8-4182-bff1-13e329f9f476",
   "metadata": {},
   "source": [
    "# Circularity\n",
    "\n",
    "Here the circularity data are plotted for all of the measured particles."
   ]
  },
  {
   "cell_type": "code",
   "execution_count": 3,
   "id": "e1783fe4-faf9-4c91-98e8-203e3c63c50e",
   "metadata": {},
   "outputs": [],
   "source": [
    "circ_bins = np.linspace(0,1,21) # Creates bins for the circularity data"
   ]
  },
  {
   "cell_type": "code",
   "execution_count": 4,
   "id": "d3a325ae-a478-4f5b-8335-bf00c9829c62",
   "metadata": {},
   "outputs": [],
   "source": [
    "# Places data into bins, outputting 2 arrays: \n",
    "# binned data (counts) and bins\n",
    "circ_counts, circ_bins_out = np.histogram(raw_data['Circ.'], circ_bins)\n",
    "\n",
    "#Creates new dataframe to hold the circularity data\n",
    "circ_data = pd.DataFrame()\n",
    "circ_data['Bins_lower'] = circ_bins_out[:-1]\n",
    "circ_data['Counts'] = circ_counts\n",
    "# Creates column with particle fraction data\n",
    "circ_data['norm_counts'] = circ_counts/len(raw_data)"
   ]
  },
  {
   "cell_type": "code",
   "execution_count": 5,
   "id": "2f9aae15-a3b9-423c-a231-abb103ba2d54",
   "metadata": {},
   "outputs": [],
   "source": [
    "# Finds the mean circularity of the raw data\n",
    "mean_circ = sum(raw_data['Circ.'])/len(raw_data)"
   ]
  },
  {
   "cell_type": "code",
   "execution_count": 6,
   "id": "55e3fe76-cb2b-45f3-a63a-43a8356175a7",
   "metadata": {},
   "outputs": [
    {
     "data": {
      "text/plain": [
       "Text(0.15, 0.85, 'n = 6731\\n$\\\\mu$ = 0.75')"
      ]
     },
     "execution_count": 6,
     "metadata": {},
     "output_type": "execute_result"
    },
    {
     "data": {
      "image/png": "[encoded data removed]",
      "text/plain": [
       "<Figure size 432x288 with 1 Axes>"
      ]
     },
     "metadata": {
      "needs_background": "light"
     },
     "output_type": "display_data"
    }
   ],
   "source": [
    "# Plots the circularity data against particle fraction\n",
    "ax = plt.figure()\n",
    "plt.hist(circ_bins_out[:-1], circ_bins_out[:-1], \\\n",
    "         weights=circ_data['norm_counts'], \\\n",
    "         color='silver', density=False, edgecolor='dimgrey')\n",
    "plt.xlabel('Circularity')\n",
    "plt.ylabel('Particle fraction')\n",
    "\n",
    "# Plots a line for the mean of the data\n",
    "plt.plot([mean_circ, mean_circ],[0,1], linestyle='dashed', color='black')\n",
    "max_bin_height = round(circ_data['norm_counts'].max(),2)\n",
    "plt.ylim([0,max_bin_height+0.02])\n",
    "\n",
    "# Adds a box with the total particle count and mean of the data\n",
    "ax.text(.15, .85, f\"n = {len(raw_data)}\\n$\\mu$ = \\\n",
    "{round(mean_circ,2)}\", horizontalalignment=\"left\", \\\n",
    "        verticalalignment=\"top\", bbox=dict(boxstyle = \"square\",\n",
    "                  facecolor = \"white\"))\n",
    "#plt.savefig('Circularity', format='eps')"
   ]
  },
  {
   "cell_type": "markdown",
   "id": "fa12525f-5187-46a1-8154-80743698b259",
   "metadata": {},
   "source": [
    "# Particle aspect ratios\n",
    "\n",
    "Here the aspect ratios of all the particle data are plotted"
   ]
  },
  {
   "cell_type": "code",
   "execution_count": 7,
   "id": "f8becbcc-0dc4-4252-81db-3b64ec64002d",
   "metadata": {},
   "outputs": [],
   "source": [
    "# Finds the maximum aspect ratio of all particles\n",
    "max_AR = raw_data['AR'].max()\n",
    "# Rounds the maximumm aspect ratio up to the nearest integer\n",
    "max_AR_bin = math.ceil(max_AR)\n",
    "\n",
    "# Creates bins to hold the aspect ratio data\n",
    "AR_bins = np.linspace(1,max_AR_bin,(max_AR_bin*2)-1)"
   ]
  },
  {
   "cell_type": "code",
   "execution_count": 8,
   "id": "c52886a7-bf6d-4440-9306-8ae2a53c9008",
   "metadata": {},
   "outputs": [],
   "source": [
    "# Places data into bins, outputting 2 arrays:\n",
    "# binned data (counts) and bins\n",
    "AR_counts, AR_bins_out = np.histogram(raw_data['AR'], AR_bins)\n",
    "\n",
    "#Creates new dataframe to hold the aspect ratio data\n",
    "AR_data = pd.DataFrame()\n",
    "AR_data['Bins_lower'] = AR_bins_out[:-1]\n",
    "AR_data['Counts'] = AR_counts\n",
    "# Creates column with particle fraction data\n",
    "AR_data['norm_counts'] = AR_counts/len(raw_data)"
   ]
  },
  {
   "cell_type": "code",
   "execution_count": 9,
   "id": "704274c6-2e02-4958-875b-5dc58f92a7c9",
   "metadata": {},
   "outputs": [],
   "source": [
    "# Finds the mean aspect ratio of the raw data\n",
    "mean_AR = sum(raw_data['AR'])/len(raw_data)"
   ]
  },
  {
   "cell_type": "code",
   "execution_count": 10,
   "id": "2506e4f3-0bdb-4bb2-935f-8391ba54155c",
   "metadata": {},
   "outputs": [
    {
     "data": {
      "text/plain": [
       "Text(0.87, 0.85, 'n = 6731\\n$\\\\mu$ = 1.91')"
      ]
     },
     "execution_count": 10,
     "metadata": {},
     "output_type": "execute_result"
    },
    {
     "data": {
      "image/png": "[encoded data removed]",
      "text/plain": [
       "<Figure size 432x288 with 1 Axes>"
      ]
     },
     "metadata": {
      "needs_background": "light"
     },
     "output_type": "display_data"
    }
   ],
   "source": [
    "# Plots the aspect ratio data against particle fraction\n",
    "ax = plt.figure()\n",
    "plt.hist(AR_bins_out[:-1], AR_bins_out[:-1], \\\n",
    "         weights=AR_data['norm_counts'], \\\n",
    "         color='silver', density=False, edgecolor='dimgrey')\n",
    "plt.xlabel('Aspect ratio')\n",
    "plt.ylabel('Particle fraction')\n",
    "\n",
    "# Plots a line for the mean of the data\n",
    "plt.plot([mean_AR, mean_AR],[0,1], linestyle='dashed', color='black')\n",
    "max_bin_height = round(AR_data['norm_counts'].max(),2)\n",
    "plt.ylim([0,max_bin_height+0.02])\n",
    "\n",
    "# Adds a box with the total particle count and mean of the data\n",
    "ax.text(.87, .85, f\"n = {len(raw_data)}\\n$\\mu$ = \\\n",
    "{round(mean_AR,2)}\", horizontalalignment=\"right\", \\\n",
    "        verticalalignment=\"top\", bbox=dict(boxstyle = \"square\",\n",
    "                  facecolor = \"white\"))\n",
    "#plt.savefig('Aspect_ratio', format='eps')"
   ]
  },
  {
   "cell_type": "markdown",
   "id": "de253c89-8a6e-4d3b-89de-3e27c6a0919c",
   "metadata": {},
   "source": [
    "# Area errors from spherical assumption\n",
    "\n",
    "As particles are not truly spherical there will be an error associated with this assumption made for the stereological conversion and sintering calculations. Here this error is quantified by considering the effects on the volume calculations of the particle data above.\n",
    "\n",
    "When constructing a particle-size distribution from 2D images the third (depth) dimension of the particles will always be unconstrained and therefore only rotational ellipsoids can be considered. Here we consider the volume errors created by sphericity for oblate or prolate spheroids."
   ]
  },
  {
   "cell_type": "markdown",
   "id": "14cadb9d-d30a-493f-9b84-8dc824dd1f04",
   "metadata": {},
   "source": [
    "# The average particle\n",
    "\n",
    "First, the average particle in the dataset is considered. The volume of this particle can be calculated from its area, assuming that the particle is perfectly spherical."
   ]
  },
  {
   "cell_type": "code",
   "execution_count": 11,
   "id": "23f00b62-8ae7-4f00-ac70-79449a44836e",
   "metadata": {},
   "outputs": [
    {
     "data": {
      "text/plain": [
       "9.64"
      ]
     },
     "execution_count": 11,
     "metadata": {},
     "output_type": "execute_result"
    }
   ],
   "source": [
    "# Calculates the mean area of a particle\n",
    "mean_area = sum(raw_data['Area'])/len(raw_data)\n",
    "\n",
    "# Assuming perfectly circular particles, the mean radius is calculated \n",
    "mean_r = (mean_area/ math.pi)**0.5\n",
    "round(mean_r,2)"
   ]
  },
  {
   "cell_type": "code",
   "execution_count": 12,
   "id": "358630fe-2846-4c10-beae-606327755250",
   "metadata": {},
   "outputs": [
    {
     "data": {
      "text/plain": [
       "3757.7764307575003"
      ]
     },
     "execution_count": 12,
     "metadata": {},
     "output_type": "execute_result"
    }
   ],
   "source": [
    "# Assuming spherical particles, the mean volume can be calculated\n",
    "mean_volume = 4/3 * math.pi * mean_r**3\n",
    "mean_volume"
   ]
  },
  {
   "cell_type": "markdown",
   "id": "29537308-516a-4526-806c-ecfa81afe018",
   "metadata": {},
   "source": [
    "The aspect ratio of each particle indicate how far from sphericity each particle is. Using the mean aspect ratio we can calculate the volume of the oblate and prolate spheroids formed by the average particle."
   ]
  },
  {
   "cell_type": "code",
   "execution_count": 13,
   "id": "0a298f51-68e6-4d13-9a1e-1b0516f27a23",
   "metadata": {},
   "outputs": [],
   "source": [
    "# Finds the axes (a and b) of an ellipse with the mean particle area\n",
    "ab = mean_area/math.pi\n",
    "b = (ab / mean_AR)**0.5\n",
    "a = mean_AR * b"
   ]
  },
  {
   "cell_type": "code",
   "execution_count": 14,
   "id": "65ebf14b-a578-4ea1-bd98-c9114eedc808",
   "metadata": {},
   "outputs": [],
   "source": [
    "# Finds volume of prolate ellipsoid\n",
    "v_pro = 4/3 * math.pi * a**2 * b\n",
    "# Finds volume of prolate ellipsoid\n",
    "v_ob = 4/3 * math.pi * b**2 * a"
   ]
  },
  {
   "cell_type": "code",
   "execution_count": 15,
   "id": "53adf6c2-aae2-449a-a91c-0f58c3788339",
   "metadata": {},
   "outputs": [
    {
     "name": "stdout",
     "output_type": "stream",
     "text": [
      "The % error on the prolate spheroid is 38.34 % and the % error on the oblate spheroid is 27.72 %\n"
     ]
    }
   ],
   "source": [
    "# Calculates the % error on both volumes\n",
    "er_pro = abs(((v_pro - mean_volume)/mean_volume)*100)\n",
    "er_ob = abs(((v_ob - mean_volume)/mean_volume)*100)\n",
    "\n",
    "print(f'The % error on the prolate spheroid is {round(er_pro,2)} \\\n",
    "% and the % error on the oblate spheroid is {round(er_ob,2)} %')"
   ]
  },
  {
   "cell_type": "markdown",
   "id": "65693c30-e813-4765-b6ab-381aca1f5c31",
   "metadata": {},
   "source": [
    "# Particle packs of different areas\n",
    "\n",
    "The code below calculates the volume of particles of a range of sizes and different aspect ratios, as well as the % error from the spherical assumption."
   ]
  },
  {
   "cell_type": "code",
   "execution_count": 16,
   "id": "b1f72449-2e34-4912-b2ce-c2fe3ea548b0",
   "metadata": {},
   "outputs": [],
   "source": [
    "# Generates a range of particle sizes to calculate volumes for\n",
    "areas = np.linspace(0,10000,1000)\n",
    "\n",
    "# Generates a range of aspect ratios to plot\n",
    "#ARs = np.linspace(1.1,10,100)\n",
    "ARs = [2, 4, 6, 8, 10]"
   ]
  },
  {
   "cell_type": "code",
   "execution_count": 17,
   "id": "13a6bb40-53d2-4123-ad19-69ccb2605aab",
   "metadata": {},
   "outputs": [
    {
     "data": {
      "text/html": [
       "<div>\n",
       "<style scoped>\n",
       "    .dataframe tbody tr th:only-of-type {\n",
       "        vertical-align: middle;\n",
       "    }\n",
       "\n",
       "    .dataframe tbody tr th {\n",
       "        vertical-align: top;\n",
       "    }\n",
       "\n",
       "    .dataframe thead th {\n",
       "        text-align: right;\n",
       "    }\n",
       "</style>\n",
       "<table border=\"1\" class=\"dataframe\">\n",
       "  <thead>\n",
       "    <tr style=\"text-align: right;\">\n",
       "      <th></th>\n",
       "      <th>Areas</th>\n",
       "      <th>sph_r</th>\n",
       "      <th>vol_1</th>\n",
       "      <th>short_axis_2</th>\n",
       "      <th>vol_pro_2</th>\n",
       "      <th>vol_ob_2</th>\n",
       "      <th>short_axis_4</th>\n",
       "      <th>vol_pro_4</th>\n",
       "      <th>vol_ob_4</th>\n",
       "      <th>short_axis_6</th>\n",
       "      <th>vol_pro_6</th>\n",
       "      <th>vol_ob_6</th>\n",
       "      <th>short_axis_8</th>\n",
       "      <th>vol_pro_8</th>\n",
       "      <th>vol_ob_8</th>\n",
       "      <th>short_axis_10</th>\n",
       "      <th>vol_pro_10</th>\n",
       "      <th>vol_ob_10</th>\n",
       "    </tr>\n",
       "  </thead>\n",
       "  <tbody>\n",
       "    <tr>\n",
       "      <th>0</th>\n",
       "      <td>0.00000</td>\n",
       "      <td>0.000000</td>\n",
       "      <td>0.000000</td>\n",
       "      <td>0.000000</td>\n",
       "      <td>0.000000e+00</td>\n",
       "      <td>0.000000</td>\n",
       "      <td>0.000000</td>\n",
       "      <td>0.000000e+00</td>\n",
       "      <td>0.000000</td>\n",
       "      <td>0.000000</td>\n",
       "      <td>0.000000e+00</td>\n",
       "      <td>0.000000</td>\n",
       "      <td>0.000000</td>\n",
       "      <td>0.000000e+00</td>\n",
       "      <td>0.000000</td>\n",
       "      <td>0.000000</td>\n",
       "      <td>0.000000e+00</td>\n",
       "      <td>0.000000</td>\n",
       "    </tr>\n",
       "    <tr>\n",
       "      <th>1</th>\n",
       "      <td>10.01001</td>\n",
       "      <td>1.785017</td>\n",
       "      <td>23.824049</td>\n",
       "      <td>1.262198</td>\n",
       "      <td>3.369229e+01</td>\n",
       "      <td>16.846146</td>\n",
       "      <td>0.892508</td>\n",
       "      <td>4.764810e+01</td>\n",
       "      <td>11.912024</td>\n",
       "      <td>0.728730</td>\n",
       "      <td>5.835676e+01</td>\n",
       "      <td>9.726127</td>\n",
       "      <td>0.631099</td>\n",
       "      <td>6.738459e+01</td>\n",
       "      <td>8.423073</td>\n",
       "      <td>0.564472</td>\n",
       "      <td>7.533826e+01</td>\n",
       "      <td>7.533826</td>\n",
       "    </tr>\n",
       "    <tr>\n",
       "      <th>2</th>\n",
       "      <td>20.02002</td>\n",
       "      <td>2.524395</td>\n",
       "      <td>67.384586</td>\n",
       "      <td>1.785017</td>\n",
       "      <td>9.529619e+01</td>\n",
       "      <td>47.648097</td>\n",
       "      <td>1.262198</td>\n",
       "      <td>1.347692e+02</td>\n",
       "      <td>33.692293</td>\n",
       "      <td>1.030580</td>\n",
       "      <td>1.650579e+02</td>\n",
       "      <td>27.509642</td>\n",
       "      <td>0.892508</td>\n",
       "      <td>1.905924e+02</td>\n",
       "      <td>23.824049</td>\n",
       "      <td>0.798284</td>\n",
       "      <td>2.130888e+02</td>\n",
       "      <td>21.308877</td>\n",
       "    </tr>\n",
       "    <tr>\n",
       "      <th>3</th>\n",
       "      <td>30.03003</td>\n",
       "      <td>3.091740</td>\n",
       "      <td>123.793388</td>\n",
       "      <td>2.186190</td>\n",
       "      <td>1.750703e+02</td>\n",
       "      <td>87.535144</td>\n",
       "      <td>1.545870</td>\n",
       "      <td>2.475868e+02</td>\n",
       "      <td>61.896694</td>\n",
       "      <td>1.262198</td>\n",
       "      <td>3.032306e+02</td>\n",
       "      <td>50.538439</td>\n",
       "      <td>1.093095</td>\n",
       "      <td>3.501406e+02</td>\n",
       "      <td>43.767572</td>\n",
       "      <td>0.977694</td>\n",
       "      <td>3.914691e+02</td>\n",
       "      <td>39.146907</td>\n",
       "    </tr>\n",
       "    <tr>\n",
       "      <th>4</th>\n",
       "      <td>40.04004</td>\n",
       "      <td>3.570034</td>\n",
       "      <td>190.592389</td>\n",
       "      <td>2.524395</td>\n",
       "      <td>2.695383e+02</td>\n",
       "      <td>134.769171</td>\n",
       "      <td>1.785017</td>\n",
       "      <td>3.811848e+02</td>\n",
       "      <td>95.296195</td>\n",
       "      <td>1.457460</td>\n",
       "      <td>4.668541e+02</td>\n",
       "      <td>77.809017</td>\n",
       "      <td>1.262198</td>\n",
       "      <td>5.390767e+02</td>\n",
       "      <td>67.384586</td>\n",
       "      <td>1.128944</td>\n",
       "      <td>6.027061e+02</td>\n",
       "      <td>60.270606</td>\n",
       "    </tr>\n",
       "    <tr>\n",
       "      <th>...</th>\n",
       "      <td>...</td>\n",
       "      <td>...</td>\n",
       "      <td>...</td>\n",
       "      <td>...</td>\n",
       "      <td>...</td>\n",
       "      <td>...</td>\n",
       "      <td>...</td>\n",
       "      <td>...</td>\n",
       "      <td>...</td>\n",
       "      <td>...</td>\n",
       "      <td>...</td>\n",
       "      <td>...</td>\n",
       "      <td>...</td>\n",
       "      <td>...</td>\n",
       "      <td>...</td>\n",
       "      <td>...</td>\n",
       "      <td>...</td>\n",
       "      <td>...</td>\n",
       "    </tr>\n",
       "    <tr>\n",
       "      <th>995</th>\n",
       "      <td>9959.95996</td>\n",
       "      <td>56.305894</td>\n",
       "      <td>747739.268940</td>\n",
       "      <td>39.814280</td>\n",
       "      <td>1.057463e+06</td>\n",
       "      <td>528731.507627</td>\n",
       "      <td>28.152947</td>\n",
       "      <td>1.495479e+06</td>\n",
       "      <td>373869.634470</td>\n",
       "      <td>22.986785</td>\n",
       "      <td>1.831580e+06</td>\n",
       "      <td>305263.278258</td>\n",
       "      <td>19.907140</td>\n",
       "      <td>2.114926e+06</td>\n",
       "      <td>264365.753814</td>\n",
       "      <td>17.805487</td>\n",
       "      <td>2.364559e+06</td>\n",
       "      <td>236455.918580</td>\n",
       "    </tr>\n",
       "    <tr>\n",
       "      <th>996</th>\n",
       "      <td>9969.96997</td>\n",
       "      <td>56.334182</td>\n",
       "      <td>748866.797249</td>\n",
       "      <td>39.834282</td>\n",
       "      <td>1.059058e+06</td>\n",
       "      <td>529528.790541</td>\n",
       "      <td>28.167091</td>\n",
       "      <td>1.497734e+06</td>\n",
       "      <td>374433.398625</td>\n",
       "      <td>22.998333</td>\n",
       "      <td>1.834342e+06</td>\n",
       "      <td>305723.589762</td>\n",
       "      <td>19.917141</td>\n",
       "      <td>2.118115e+06</td>\n",
       "      <td>264764.395270</td>\n",
       "      <td>17.814432</td>\n",
       "      <td>2.368125e+06</td>\n",
       "      <td>236812.474338</td>\n",
       "    </tr>\n",
       "    <tr>\n",
       "      <th>997</th>\n",
       "      <td>9979.97998</td>\n",
       "      <td>56.362455</td>\n",
       "      <td>749994.891729</td>\n",
       "      <td>39.854274</td>\n",
       "      <td>1.060653e+06</td>\n",
       "      <td>530326.473797</td>\n",
       "      <td>28.181227</td>\n",
       "      <td>1.499990e+06</td>\n",
       "      <td>374997.445864</td>\n",
       "      <td>23.009876</td>\n",
       "      <td>1.837105e+06</td>\n",
       "      <td>306184.132405</td>\n",
       "      <td>19.927137</td>\n",
       "      <td>2.121306e+06</td>\n",
       "      <td>265163.236898</td>\n",
       "      <td>17.823373</td>\n",
       "      <td>2.371692e+06</td>\n",
       "      <td>237169.209135</td>\n",
       "    </tr>\n",
       "    <tr>\n",
       "      <th>998</th>\n",
       "      <td>9989.98999</td>\n",
       "      <td>56.390714</td>\n",
       "      <td>751123.552095</td>\n",
       "      <td>39.874256</td>\n",
       "      <td>1.062249e+06</td>\n",
       "      <td>531124.557195</td>\n",
       "      <td>28.195357</td>\n",
       "      <td>1.502247e+06</td>\n",
       "      <td>375561.776047</td>\n",
       "      <td>23.021412</td>\n",
       "      <td>1.839869e+06</td>\n",
       "      <td>306644.906070</td>\n",
       "      <td>19.937128</td>\n",
       "      <td>2.124498e+06</td>\n",
       "      <td>265562.278598</td>\n",
       "      <td>17.832309</td>\n",
       "      <td>2.375261e+06</td>\n",
       "      <td>237526.122882</td>\n",
       "    </tr>\n",
       "    <tr>\n",
       "      <th>999</th>\n",
       "      <td>10000.00000</td>\n",
       "      <td>56.418958</td>\n",
       "      <td>752252.778064</td>\n",
       "      <td>39.894228</td>\n",
       "      <td>1.063846e+06</td>\n",
       "      <td>531923.040535</td>\n",
       "      <td>28.209479</td>\n",
       "      <td>1.504506e+06</td>\n",
       "      <td>376126.389032</td>\n",
       "      <td>23.032943</td>\n",
       "      <td>1.842635e+06</td>\n",
       "      <td>307105.910641</td>\n",
       "      <td>19.947114</td>\n",
       "      <td>2.127692e+06</td>\n",
       "      <td>265961.520268</td>\n",
       "      <td>17.841241</td>\n",
       "      <td>2.378832e+06</td>\n",
       "      <td>237883.215487</td>\n",
       "    </tr>\n",
       "  </tbody>\n",
       "</table>\n",
       "<p>1000 rows × 18 columns</p>\n",
       "</div>"
      ],
      "text/plain": [
       "           Areas      sph_r          vol_1  short_axis_2     vol_pro_2  \\\n",
       "0        0.00000   0.000000       0.000000      0.000000  0.000000e+00   \n",
       "1       10.01001   1.785017      23.824049      1.262198  3.369229e+01   \n",
       "2       20.02002   2.524395      67.384586      1.785017  9.529619e+01   \n",
       "3       30.03003   3.091740     123.793388      2.186190  1.750703e+02   \n",
       "4       40.04004   3.570034     190.592389      2.524395  2.695383e+02   \n",
       "..           ...        ...            ...           ...           ...   \n",
       "995   9959.95996  56.305894  747739.268940     39.814280  1.057463e+06   \n",
       "996   9969.96997  56.334182  748866.797249     39.834282  1.059058e+06   \n",
       "997   9979.97998  56.362455  749994.891729     39.854274  1.060653e+06   \n",
       "998   9989.98999  56.390714  751123.552095     39.874256  1.062249e+06   \n",
       "999  10000.00000  56.418958  752252.778064     39.894228  1.063846e+06   \n",
       "\n",
       "          vol_ob_2  short_axis_4     vol_pro_4       vol_ob_4  short_axis_6  \\\n",
       "0         0.000000      0.000000  0.000000e+00       0.000000      0.000000   \n",
       "1        16.846146      0.892508  4.764810e+01      11.912024      0.728730   \n",
       "2        47.648097      1.262198  1.347692e+02      33.692293      1.030580   \n",
       "3        87.535144      1.545870  2.475868e+02      61.896694      1.262198   \n",
       "4       134.769171      1.785017  3.811848e+02      95.296195      1.457460   \n",
       "..             ...           ...           ...            ...           ...   \n",
       "995  528731.507627     28.152947  1.495479e+06  373869.634470     22.986785   \n",
       "996  529528.790541     28.167091  1.497734e+06  374433.398625     22.998333   \n",
       "997  530326.473797     28.181227  1.499990e+06  374997.445864     23.009876   \n",
       "998  531124.557195     28.195357  1.502247e+06  375561.776047     23.021412   \n",
       "999  531923.040535     28.209479  1.504506e+06  376126.389032     23.032943   \n",
       "\n",
       "        vol_pro_6       vol_ob_6  short_axis_8     vol_pro_8       vol_ob_8  \\\n",
       "0    0.000000e+00       0.000000      0.000000  0.000000e+00       0.000000   \n",
       "1    5.835676e+01       9.726127      0.631099  6.738459e+01       8.423073   \n",
       "2    1.650579e+02      27.509642      0.892508  1.905924e+02      23.824049   \n",
       "3    3.032306e+02      50.538439      1.093095  3.501406e+02      43.767572   \n",
       "4    4.668541e+02      77.809017      1.262198  5.390767e+02      67.384586   \n",
       "..            ...            ...           ...           ...            ...   \n",
       "995  1.831580e+06  305263.278258     19.907140  2.114926e+06  264365.753814   \n",
       "996  1.834342e+06  305723.589762     19.917141  2.118115e+06  264764.395270   \n",
       "997  1.837105e+06  306184.132405     19.927137  2.121306e+06  265163.236898   \n",
       "998  1.839869e+06  306644.906070     19.937128  2.124498e+06  265562.278598   \n",
       "999  1.842635e+06  307105.910641     19.947114  2.127692e+06  265961.520268   \n",
       "\n",
       "     short_axis_10    vol_pro_10      vol_ob_10  \n",
       "0         0.000000  0.000000e+00       0.000000  \n",
       "1         0.564472  7.533826e+01       7.533826  \n",
       "2         0.798284  2.130888e+02      21.308877  \n",
       "3         0.977694  3.914691e+02      39.146907  \n",
       "4         1.128944  6.027061e+02      60.270606  \n",
       "..             ...           ...            ...  \n",
       "995      17.805487  2.364559e+06  236455.918580  \n",
       "996      17.814432  2.368125e+06  236812.474338  \n",
       "997      17.823373  2.371692e+06  237169.209135  \n",
       "998      17.832309  2.375261e+06  237526.122882  \n",
       "999      17.841241  2.378832e+06  237883.215487  \n",
       "\n",
       "[1000 rows x 18 columns]"
      ]
     },
     "execution_count": 17,
     "metadata": {},
     "output_type": "execute_result"
    }
   ],
   "source": [
    "volume_data = pd.DataFrame()\n",
    "volume_data['Areas'] = areas\n",
    "AR = 1\n",
    "volume_data['sph_r'] = (areas/ math.pi)**0.5\n",
    "volume_data[f'vol_1'] = 4/3 * math.pi * volume_data['sph_r']**3\n",
    "\n",
    "for AR in ARs:\n",
    "    ab = areas/math.pi\n",
    "    b = (ab / AR)**0.5\n",
    "    a = AR * b\n",
    "    \n",
    "    volume_data[f'short_axis_{AR}'] = b\n",
    "    \n",
    "    volume_data[f'vol_pro_{AR}'] = 4/3 * math.pi * b * a**2\n",
    "    \n",
    "    volume_data[f'vol_ob_{AR}'] = 4/3 * math.pi * b**2 * a\n",
    "\n",
    "volume_data"
   ]
  },
  {
   "cell_type": "code",
   "execution_count": 18,
   "id": "209843e4-4c26-4075-9ded-6cd78e1f21be",
   "metadata": {},
   "outputs": [
    {
     "data": {
      "text/plain": [
       "Text(0.7, 0.74, '1:1:1 (sphere)')"
      ]
     },
     "execution_count": 18,
     "metadata": {},
     "output_type": "execute_result"
    },
    {
     "data": {
      "image/png": "[encoded data removed]",
      "text/plain": [
       "<Figure size 432x288 with 1 Axes>"
      ]
     },
     "metadata": {
      "needs_background": "light"
     },
     "output_type": "display_data"
    }
   ],
   "source": [
    "ax = plt.figure()\n",
    "\n",
    "plt.plot(volume_data['Areas'], volume_data[f'vol_pro_{ARs[0]}'],\\\n",
    "         label='Prolate',color='0')\n",
    "plt.plot(volume_data['Areas'], volume_data[f'vol_ob_{ARs[0]}'],\\\n",
    "         linestyle='dashed', label='Oblate',color='0')\n",
    "plt.plot(volume_data['Areas'], volume_data['vol_1'],\\\n",
    "         label=f'1:1',color='0')\n",
    "\n",
    "colour=np.linspace(0.4,0.9,len(ARs))\n",
    "\n",
    "for i,AR in enumerate(ARs):\n",
    "    plt.plot(volume_data['Areas'], volume_data[f'vol_pro_{AR}'],\\\n",
    "             label=f'1:{AR}',c=str(colour[i]))\n",
    "    plt.plot(volume_data['Areas'], volume_data[f'vol_ob_{AR}'],\\\n",
    "             linestyle='dashed',c=str(colour[i]))    \n",
    "\n",
    "plt.xlim([0,2000])\n",
    "plt.ylim([0,80000])\n",
    "plt.xlabel('Particle area')\n",
    "plt.ylabel('Particle volume')\n",
    "plt.legend(loc='upper left')\n",
    "ax.text(0.7,0.74,'1:1:1 (sphere)', ha='left', va='top', rotation=37)\n",
    "#plt.savefig('Aspect_ratio_volumes', format='eps')"
   ]
  },
  {
   "cell_type": "code",
   "execution_count": 19,
   "id": "99d34512-ff5f-43cd-917b-6726da292e36",
   "metadata": {},
   "outputs": [
    {
     "data": {
      "text/html": [
       "<div>\n",
       "<style scoped>\n",
       "    .dataframe tbody tr th:only-of-type {\n",
       "        vertical-align: middle;\n",
       "    }\n",
       "\n",
       "    .dataframe tbody tr th {\n",
       "        vertical-align: top;\n",
       "    }\n",
       "\n",
       "    .dataframe thead th {\n",
       "        text-align: right;\n",
       "    }\n",
       "</style>\n",
       "<table border=\"1\" class=\"dataframe\">\n",
       "  <thead>\n",
       "    <tr style=\"text-align: right;\">\n",
       "      <th></th>\n",
       "      <th>er_pro_2</th>\n",
       "      <th>er_ob_2</th>\n",
       "      <th>er_pro_4</th>\n",
       "      <th>er_ob_4</th>\n",
       "      <th>er_pro_6</th>\n",
       "      <th>er_ob_6</th>\n",
       "      <th>er_pro_8</th>\n",
       "      <th>er_ob_8</th>\n",
       "      <th>er_pro_10</th>\n",
       "      <th>er_ob_10</th>\n",
       "    </tr>\n",
       "  </thead>\n",
       "  <tbody>\n",
       "    <tr>\n",
       "      <th>0</th>\n",
       "      <td>NaN</td>\n",
       "      <td>NaN</td>\n",
       "      <td>NaN</td>\n",
       "      <td>NaN</td>\n",
       "      <td>NaN</td>\n",
       "      <td>NaN</td>\n",
       "      <td>NaN</td>\n",
       "      <td>NaN</td>\n",
       "      <td>NaN</td>\n",
       "      <td>NaN</td>\n",
       "    </tr>\n",
       "    <tr>\n",
       "      <th>1</th>\n",
       "      <td>41.421356</td>\n",
       "      <td>29.289322</td>\n",
       "      <td>100.0</td>\n",
       "      <td>50.0</td>\n",
       "      <td>144.948974</td>\n",
       "      <td>59.175171</td>\n",
       "      <td>182.842712</td>\n",
       "      <td>64.644661</td>\n",
       "      <td>216.227766</td>\n",
       "      <td>68.377223</td>\n",
       "    </tr>\n",
       "  </tbody>\n",
       "</table>\n",
       "</div>"
      ],
      "text/plain": [
       "    er_pro_2    er_ob_2  er_pro_4  er_ob_4    er_pro_6    er_ob_6    er_pro_8  \\\n",
       "0        NaN        NaN       NaN      NaN         NaN        NaN         NaN   \n",
       "1  41.421356  29.289322     100.0     50.0  144.948974  59.175171  182.842712   \n",
       "\n",
       "     er_ob_8   er_pro_10   er_ob_10  \n",
       "0        NaN         NaN        NaN  \n",
       "1  64.644661  216.227766  68.377223  "
      ]
     },
     "execution_count": 19,
     "metadata": {},
     "output_type": "execute_result"
    }
   ],
   "source": [
    "error_data = pd.DataFrame()\n",
    "# Calculates the % error for each aspect ratio\n",
    "for AR in ARs:\n",
    "    error_data[f'er_pro_{AR}'] = abs(((volume_data[f'vol_pro_{AR}']- \\\n",
    "        volume_data[f'vol_1'])/volume_data[f'vol_1'])*100)\n",
    "    error_data[f'er_ob_{AR}'] = abs(((volume_data[f'vol_ob_{AR}']- \\\n",
    "        volume_data[f'vol_1'])/volume_data[f'vol_1'])*100)\n",
    "    \n",
    "error_data.head(2)"
   ]
  },
  {
   "cell_type": "code",
   "execution_count": 20,
   "id": "10b8d9cf-198d-4a01-a5e9-1e62c520029e",
   "metadata": {},
   "outputs": [],
   "source": [
    "# Creates two new arrays to separate out the dataframe columns\n",
    "across_ARs_pro = np.zeros(len(ARs)+1)\n",
    "across_ARs_ob = np.zeros(len(ARs)+1)\n",
    "\n",
    "# Collects the prolate and oblate values into separate arrays\n",
    "for i in range(1,len(across_ARs_pro)):\n",
    "    across_ARs_pro[i] = error_data.iloc[1,2*(i)-2]\n",
    "    across_ARs_ob[i] = error_data.iloc[1,2*(i)-1]"
   ]
  },
  {
   "cell_type": "code",
   "execution_count": 21,
   "id": "9fb57fe5-1219-4796-942b-82e3974d96c7",
   "metadata": {},
   "outputs": [
    {
     "data": {
      "text/plain": [
       "<matplotlib.legend.Legend at 0x7f852e1420d0>"
      ]
     },
     "execution_count": 21,
     "metadata": {},
     "output_type": "execute_result"
    },
    {
     "data": {
      "image/png": "[encoded data removed]",
      "text/plain": [
       "<Figure size 432x288 with 1 Axes>"
      ]
     },
     "metadata": {
      "needs_background": "light"
     },
     "output_type": "display_data"
    }
   ],
   "source": [
    "# Plots the prolate and oblate errors against aspect ratio\n",
    "plt.plot(ARs, across_ARs_pro[1:], color='silver', label='Prolate')\n",
    "plt.plot(ARs, across_ARs_ob[1:], color='silver',\\\n",
    "         linestyle='dashed', label='Oblate')\n",
    "plt.xlabel('Aspect ratio')\n",
    "plt.ylabel('% Error')\n",
    "plt.legend(loc='upper left')\n",
    "#plt.savefig('aspect_ratio_error', format='eps')"
   ]
  }
 ],
 "metadata": {
  "kernelspec": {
   "display_name": "Python 3 (ipykernel)",
   "language": "python",
   "name": "python3"
  },
  "language_info": {
   "codemirror_mode": {
    "name": "ipython",
    "version": 3
   },
   "file_extension": ".py",
   "mimetype": "text/x-python",
   "name": "python",
   "nbconvert_exporter": "python",
   "pygments_lexer": "ipython3",
   "version": "3.9.7"
  }
 },
 "nbformat": 4,
 "nbformat_minor": 5
}
