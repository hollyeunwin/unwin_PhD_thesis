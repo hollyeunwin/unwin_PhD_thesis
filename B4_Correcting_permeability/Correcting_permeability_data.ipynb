{
 "cells": [
  {
   "cell_type": "markdown",
   "id": "32cc22ad-9d26-43a9-9859-a926a9a0ac8c",
   "metadata": {},
   "source": [
    "# Plotting and correcting permeablity data"
   ]
  },
  {
   "cell_type": "markdown",
   "id": "488d20ef-9d69-47dc-bde1-7d9c7bb65c5f",
   "metadata": {},
   "source": [
    "Here is the method to process the raw volumetic flow and pressure differential data to calculate permeability. This data is then corrected where needed for gas turbulence and gas slippage. See Appendix A5 for details of the different corrections applied to permeability data."
   ]
  },
  {
   "cell_type": "code",
   "execution_count": 1,
   "id": "90f23387-572d-44f8-b860-dfaffc9562e5",
   "metadata": {},
   "outputs": [],
   "source": [
    "import pandas as pd\n",
    "import numpy as np\n",
    "from pandas import Series\n",
    "from pandas import DataFrame\n",
    "import matplotlib.pyplot as plt\n",
    "import math"
   ]
  },
  {
   "cell_type": "markdown",
   "id": "1569fe95-292f-4804-95e4-113b713e5a46",
   "metadata": {},
   "source": [
    "Three samples have been chosen to demonstrate the changes that corrections make to the permeability measurement calculated from the raw data. These samples were selected to include an example of each of the following sitations: \n",
    "1. No correction is required (TF1_1) \n",
    "2. The Forchheimer correction is required (TF1_2)\n",
    "3. The Klinkenberg correction is required (TF2_1)"
   ]
  },
  {
   "cell_type": "code",
   "execution_count": 39,
   "id": "73b0cfd2-96fd-48d1-82ff-8d0ecbf847bb",
   "metadata": {},
   "outputs": [
    {
     "data": {
      "text/html": [
       "<div>\n",
       "<style scoped>\n",
       "    .dataframe tbody tr th:only-of-type {\n",
       "        vertical-align: middle;\n",
       "    }\n",
       "\n",
       "    .dataframe tbody tr th {\n",
       "        vertical-align: top;\n",
       "    }\n",
       "\n",
       "    .dataframe thead th {\n",
       "        text-align: right;\n",
       "    }\n",
       "</style>\n",
       "<table border=\"1\" class=\"dataframe\">\n",
       "  <thead>\n",
       "    <tr style=\"text-align: right;\">\n",
       "      <th></th>\n",
       "      <th>dP_(mBar)</th>\n",
       "      <th>Q_(ml/min)</th>\n",
       "      <th>dP_(Pa)</th>\n",
       "      <th>Q_(m^3/s)</th>\n",
       "    </tr>\n",
       "  </thead>\n",
       "  <tbody>\n",
       "    <tr>\n",
       "      <th>0</th>\n",
       "      <td>1505.2</td>\n",
       "      <td>37.60</td>\n",
       "      <td>150520</td>\n",
       "      <td>6.266670e-07</td>\n",
       "    </tr>\n",
       "    <tr>\n",
       "      <th>1</th>\n",
       "      <td>1424.5</td>\n",
       "      <td>34.85</td>\n",
       "      <td>142450</td>\n",
       "      <td>5.808330e-07</td>\n",
       "    </tr>\n",
       "    <tr>\n",
       "      <th>2</th>\n",
       "      <td>1290.2</td>\n",
       "      <td>30.42</td>\n",
       "      <td>129020</td>\n",
       "      <td>5.070000e-07</td>\n",
       "    </tr>\n",
       "    <tr>\n",
       "      <th>3</th>\n",
       "      <td>1143.1</td>\n",
       "      <td>25.77</td>\n",
       "      <td>114310</td>\n",
       "      <td>4.295000e-07</td>\n",
       "    </tr>\n",
       "    <tr>\n",
       "      <th>4</th>\n",
       "      <td>1010.2</td>\n",
       "      <td>21.84</td>\n",
       "      <td>101020</td>\n",
       "      <td>3.640000e-07</td>\n",
       "    </tr>\n",
       "    <tr>\n",
       "      <th>5</th>\n",
       "      <td>907.8</td>\n",
       "      <td>19.00</td>\n",
       "      <td>90780</td>\n",
       "      <td>3.166670e-07</td>\n",
       "    </tr>\n",
       "  </tbody>\n",
       "</table>\n",
       "</div>"
      ],
      "text/plain": [
       "   dP_(mBar)  Q_(ml/min)  dP_(Pa)     Q_(m^3/s)\n",
       "0     1505.2       37.60   150520  6.266670e-07\n",
       "1     1424.5       34.85   142450  5.808330e-07\n",
       "2     1290.2       30.42   129020  5.070000e-07\n",
       "3     1143.1       25.77   114310  4.295000e-07\n",
       "4     1010.2       21.84   101020  3.640000e-07\n",
       "5      907.8       19.00    90780  3.166670e-07"
      ]
     },
     "execution_count": 39,
     "metadata": {},
     "output_type": "execute_result"
    }
   ],
   "source": [
    "TF1_1 = pd.read_csv(\"TF1_1.csv\") # Reads each of the raw data files\n",
    "TF1_2 = pd.read_csv(\"TF1_2.csv\")\n",
    "TF2_1 = pd.read_csv(\"TF2_1.csv\")\n",
    "TF2_1 # Here is an example of a raw data file."
   ]
  },
  {
   "cell_type": "code",
   "execution_count": 3,
   "id": "ffda0f5e-262b-44ac-9d5c-33feff9610ef",
   "metadata": {},
   "outputs": [],
   "source": [
    "names = [TF1_1,TF1_2,TF2_1] # Creates a list of the dataframe names to loop over"
   ]
  },
  {
   "cell_type": "markdown",
   "id": "c1b01a75-73ca-4a48-b3e1-845b36cf6a50",
   "metadata": {},
   "source": [
    "We also need measurements of the dimensions of each sample."
   ]
  },
  {
   "cell_type": "code",
   "execution_count": 4,
   "id": "afbf8619-2c5c-4329-9c82-539a9fa77986",
   "metadata": {},
   "outputs": [
    {
     "data": {
      "text/html": [
       "<div>\n",
       "<style scoped>\n",
       "    .dataframe tbody tr th:only-of-type {\n",
       "        vertical-align: middle;\n",
       "    }\n",
       "\n",
       "    .dataframe tbody tr th {\n",
       "        vertical-align: top;\n",
       "    }\n",
       "\n",
       "    .dataframe thead th {\n",
       "        text-align: right;\n",
       "    }\n",
       "</style>\n",
       "<table border=\"1\" class=\"dataframe\">\n",
       "  <thead>\n",
       "    <tr style=\"text-align: right;\">\n",
       "      <th></th>\n",
       "      <th>name</th>\n",
       "      <th>length</th>\n",
       "      <th>diameter</th>\n",
       "      <th>bulk_volume</th>\n",
       "      <th>pycnometer_volume</th>\n",
       "      <th>sd</th>\n",
       "    </tr>\n",
       "  </thead>\n",
       "  <tbody>\n",
       "    <tr>\n",
       "      <th>0</th>\n",
       "      <td>TF1_1</td>\n",
       "      <td>39.89</td>\n",
       "      <td>19.90</td>\n",
       "      <td>12.406808</td>\n",
       "      <td>9.5933</td>\n",
       "      <td>0.0066</td>\n",
       "    </tr>\n",
       "    <tr>\n",
       "      <th>1</th>\n",
       "      <td>TF1_2</td>\n",
       "      <td>39.92</td>\n",
       "      <td>19.92</td>\n",
       "      <td>12.441109</td>\n",
       "      <td>9.3876</td>\n",
       "      <td>0.0083</td>\n",
       "    </tr>\n",
       "    <tr>\n",
       "      <th>2</th>\n",
       "      <td>TF2_1</td>\n",
       "      <td>40.01</td>\n",
       "      <td>19.95</td>\n",
       "      <td>12.510000</td>\n",
       "      <td>11.2358</td>\n",
       "      <td>0.0106</td>\n",
       "    </tr>\n",
       "  </tbody>\n",
       "</table>\n",
       "</div>"
      ],
      "text/plain": [
       "    name  length  diameter  bulk_volume  pycnometer_volume      sd\n",
       "0  TF1_1   39.89     19.90    12.406808             9.5933  0.0066\n",
       "1  TF1_2   39.92     19.92    12.441109             9.3876  0.0083\n",
       "2  TF2_1   40.01     19.95    12.510000            11.2358  0.0106"
      ]
     },
     "execution_count": 4,
     "metadata": {},
     "output_type": "execute_result"
    }
   ],
   "source": [
    "characteristics = pd.read_csv(\"example_characteristics.csv\")\n",
    "characteristics"
   ]
  },
  {
   "cell_type": "code",
   "execution_count": 5,
   "id": "b8fe662f-ee9c-48f1-a328-02de81e73380",
   "metadata": {},
   "outputs": [
    {
     "data": {
      "text/html": [
       "<div>\n",
       "<style scoped>\n",
       "    .dataframe tbody tr th:only-of-type {\n",
       "        vertical-align: middle;\n",
       "    }\n",
       "\n",
       "    .dataframe tbody tr th {\n",
       "        vertical-align: top;\n",
       "    }\n",
       "\n",
       "    .dataframe thead th {\n",
       "        text-align: right;\n",
       "    }\n",
       "</style>\n",
       "<table border=\"1\" class=\"dataframe\">\n",
       "  <thead>\n",
       "    <tr style=\"text-align: right;\">\n",
       "      <th></th>\n",
       "      <th>name</th>\n",
       "      <th>length</th>\n",
       "      <th>diameter</th>\n",
       "      <th>bulk_volume</th>\n",
       "      <th>pycnometer_volume</th>\n",
       "      <th>sd</th>\n",
       "      <th>area</th>\n",
       "    </tr>\n",
       "  </thead>\n",
       "  <tbody>\n",
       "    <tr>\n",
       "      <th>0</th>\n",
       "      <td>TF1_1</td>\n",
       "      <td>39.89</td>\n",
       "      <td>19.90</td>\n",
       "      <td>12.406808</td>\n",
       "      <td>9.5933</td>\n",
       "      <td>0.0066</td>\n",
       "      <td>0.000311</td>\n",
       "    </tr>\n",
       "    <tr>\n",
       "      <th>1</th>\n",
       "      <td>TF1_2</td>\n",
       "      <td>39.92</td>\n",
       "      <td>19.92</td>\n",
       "      <td>12.441109</td>\n",
       "      <td>9.3876</td>\n",
       "      <td>0.0083</td>\n",
       "      <td>0.000312</td>\n",
       "    </tr>\n",
       "    <tr>\n",
       "      <th>2</th>\n",
       "      <td>TF2_1</td>\n",
       "      <td>40.01</td>\n",
       "      <td>19.95</td>\n",
       "      <td>12.510000</td>\n",
       "      <td>11.2358</td>\n",
       "      <td>0.0106</td>\n",
       "      <td>0.000313</td>\n",
       "    </tr>\n",
       "  </tbody>\n",
       "</table>\n",
       "</div>"
      ],
      "text/plain": [
       "    name  length  diameter  bulk_volume  pycnometer_volume      sd      area\n",
       "0  TF1_1   39.89     19.90    12.406808             9.5933  0.0066  0.000311\n",
       "1  TF1_2   39.92     19.92    12.441109             9.3876  0.0083  0.000312\n",
       "2  TF2_1   40.01     19.95    12.510000            11.2358  0.0106  0.000313"
      ]
     },
     "execution_count": 5,
     "metadata": {},
     "output_type": "execute_result"
    }
   ],
   "source": [
    "characteristics[\"area\"] = (characteristics[\"diameter\"]/(2*1000))**2 * math.pi # Calculates cross-sectional area in m^2\n",
    "characteristics"
   ]
  },
  {
   "cell_type": "markdown",
   "id": "c67f75ce-63b8-4172-a24c-e8d3e184bd72",
   "metadata": {},
   "source": [
    "The calculations below require values for atmospheric pressure as well as the viscosity and density of nitrogen at room temperature."
   ]
  },
  {
   "cell_type": "code",
   "execution_count": 6,
   "id": "5d006b26-8795-42eb-93b0-3f04c3131f10",
   "metadata": {},
   "outputs": [],
   "source": [
    "P_atm = 101325 # Atmospheric pressure in Pa\n",
    "mu_N = 0.0000176 # Viscosity of nitrogen in Pa.s\n",
    "rho = 1.16 # Density of Nitrogen"
   ]
  },
  {
   "cell_type": "markdown",
   "id": "ee7c01d3-6af1-4cfa-943c-0e1c118f4632",
   "metadata": {},
   "source": [
    "Measurements of the pressure differential are taken but here we require the values of the upstream (P_up) and downstream (P_down) pressure. The downstream pressure (P_down) is assumed to be atmospheric pressure (P_atm). The upstream pressure is therefore calculated using:"
   ]
  },
  {
   "cell_type": "code",
   "execution_count": 7,
   "id": "f5a11224-8b49-42ba-ab9c-b2eac4175439",
   "metadata": {},
   "outputs": [],
   "source": [
    "for name in names:\n",
    "    name['P_up'] = name.iloc[:,2] + P_atm #Creates a new P_up column in each dataframe using dP_(Pa) + P_atm"
   ]
  },
  {
   "cell_type": "markdown",
   "id": "a9a09198-1f8c-457e-b693-af5cbda60f5c",
   "metadata": {},
   "source": [
    "We can then calculate the values for nabla_P (Eq. 5.1):"
   ]
  },
  {
   "cell_type": "code",
   "execution_count": 8,
   "id": "273f862b-c460-434e-b81d-402d80ba06d7",
   "metadata": {},
   "outputs": [
    {
     "data": {
      "text/plain": [
       "[   dP_(mBar)  Q_(ml/min)  dP_(Pa)     Q_(m^3/s)    P_up       nabla_P\n",
       " 0     1887.3        3.00   188730  5.000000e-08  290055  9.137532e+06\n",
       " 1     1746.1        2.69   174610  4.483330e-08  275935  8.148905e+06\n",
       " 2     1626.3        2.45   162630  4.083330e-08  263955  7.348791e+06\n",
       " 3     1473.6        2.14   147360  3.566670e-08  248685  6.380422e+06\n",
       " 4     1313.3        1.81   131330  3.016670e-08  232655  5.425925e+06\n",
       " 5     1137.6        1.48   113760  2.466670e-08  215085  4.452758e+06,\n",
       "    dP_(mBar)  Q_(ml/min)  dP_(Pa)     Q_(m^3/s)    P_up       nabla_P\n",
       " 0     1879.4        4.57   187940  7.616670e-08  289265  9.074092e+06\n",
       " 1     1741.3        4.10   174130  6.833330e-08  275455  8.110064e+06\n",
       " 2     1620.7        3.71   162070  6.183330e-08  263395  7.306764e+06\n",
       " 3     1464.6        3.22   146460  5.366670e-08  247785  6.320394e+06\n",
       " 4     1327.9        2.82   132790  4.700000e-08  234115  5.506087e+06\n",
       " 5     1181.8        2.39   118180  3.983330e-08  219505  4.686858e+06,\n",
       "    dP_(mBar)  Q_(ml/min)  dP_(Pa)     Q_(m^3/s)    P_up       nabla_P\n",
       " 0     1505.2       37.60   150520  6.266670e-07  251845  6.556361e+06\n",
       " 1     1424.5       34.85   142450  5.808330e-07  243775  6.063065e+06\n",
       " 2     1290.2       30.42   129020  5.070000e-07  230345  5.277741e+06\n",
       " 3     1143.1       25.77   114310  4.295000e-07  215635  4.468621e+06\n",
       " 4     1010.2       21.84   101020  3.640000e-07  202345  3.783503e+06\n",
       " 5      907.8       19.00    90780  3.166670e-07  192105  3.285334e+06]"
      ]
     },
     "execution_count": 8,
     "metadata": {},
     "output_type": "execute_result"
    }
   ],
   "source": [
    "for i in range(3):\n",
    "    name = names[i] # Takes each of the samples in turn\n",
    "    sq_diff = name['P_up']**2 - P_atm**2 # Calculates the top of the fraction in Eq. 5.1\n",
    "    base = 2 * P_atm * (characteristics.iloc[i,1]*0.001) # Calculates the base of the fraction in Eq. 5.2 (converting length from mm to m)\n",
    "    name['nabla_P'] = sq_diff/base # Divides one by the other to calculate the fraction and adds to the dataframe\n",
    "\n",
    "names"
   ]
  },
  {
   "cell_type": "markdown",
   "id": "af31327f-f8fd-4cfa-86b4-3526905ace91",
   "metadata": {},
   "source": [
    "The value for u is defined as Q/A."
   ]
  },
  {
   "cell_type": "code",
   "execution_count": 9,
   "id": "fc6003bd-565c-4c45-9766-c01dc2d29b3d",
   "metadata": {},
   "outputs": [],
   "source": [
    "for i in range(3):\n",
    "    name = names[i] # Takes each of the samples in turn\n",
    "    # Calculates u for each sample and adds as a new column in the dataframe\n",
    "    name['u'] = name.iloc[:,3]/characteristics.iloc[i,6] "
   ]
  },
  {
   "cell_type": "markdown",
   "id": "ad8c8e46-7021-4906-8ea0-c3c02a47b600",
   "metadata": {},
   "source": [
    "The permeability of each sample can be calculated by finding gradient of the line of best fit on a plot of u against nabla_P. In the code below, a least squares regression is used to fit a line through the data with a y-intercept of zero. The data and the fitted line are then plotted in the figures."
   ]
  },
  {
   "cell_type": "code",
   "execution_count": 10,
   "id": "1574cf92-2a04-4427-b604-7e75f8e44e0a",
   "metadata": {},
   "outputs": [
    {
     "name": "stdout",
     "output_type": "stream",
     "text": [
      " a = [5.63017579e+10], r^2 = 0.999\n",
      " a = [3.68840525e+10], r^2 = 1.0\n",
      " a = [3.25927777e+09], r^2 = 1.0\n"
     ]
    },
    {
     "data": {
      "image/png": "[encoded data removed]",
      "text/plain": [
       "<Figure size 1008x288 with 3 Axes>"
      ]
     },
     "metadata": {
      "needs_background": "light"
     },
     "output_type": "display_data"
    }
   ],
   "source": [
    "predictions = pd.DataFrame()\n",
    "fit = pd.DataFrame(index = range(2))\n",
    "a_values = np.zeros(3)\n",
    "\n",
    "fig, axs = plt.subplots(1,3,figsize=[14,4]) # Creates subplots for each sample\n",
    "for i,name in enumerate(names): # Runs through each sample in a loop\n",
    "    # Plots <u> against nabla_P for each sample\n",
    "    axs[i].scatter(name['u']*1000,name['nabla_P']/(10**6), color='silver')\n",
    "    axs[i].set(xlabel='<u> x $10^{-3}$ ($ms^{-1}$)', ylabel=''r'$\\nabla$ P (MPa)') # Adds axis labels\n",
    "    \n",
    "    x = name['u'].to_numpy() # Changes DataFrame columns to numpy arrays \n",
    "    y = name['nabla_P'].to_numpy()\n",
    "    \n",
    "    X = x[:,np.newaxis] # Changes the orientation of the x array\n",
    "    a, _, _, _ = np.linalg.lstsq(X,y, rcond=-1) # Minimises to fit a line to the data with y-intercept of 0\n",
    "\n",
    "    axs[i].plot(x*1000, (x*a)/(10**6), color='gray') # Plots the fitted line on the graph\n",
    "    y_predict = a*x # Creates variable of the predicted y values\n",
    "    \n",
    "    # Places x and predicted y in dataframe\n",
    "    #temp = pd.DataFrame({f'u{i}':name['u'],f'y{i}':y}).reset_index(drop=True)\n",
    "    #predictions=pd.concat([predictions,temp],axis=1).reset_index(drop=True) # Adds to the dataframe\n",
    "    \n",
    "    a_values[i] = a\n",
    "    \n",
    "    # Finds the r value of the fit\n",
    "    corr_matrix = np.corrcoef(name['nabla_P'],a*x)\n",
    "    corr = corr_matrix[0,1]\n",
    "    R_sq = corr**2 # Square to find the r^2 value\n",
    "    \n",
    "    # Adds the value of R_sq as text on each subplot\n",
    "    axs[i].text(0.04,0.96,f'$r^2$ = {round(R_sq,3)}', ha='left', va='top', transform=axs[i].transAxes)\n",
    "    print(f' a = {a}, r^2 = {round(R_sq,3)}')"
   ]
  },
  {
   "cell_type": "markdown",
   "id": "3c6d721d-a577-4873-9065-3936844bb624",
   "metadata": {},
   "source": [
    "The permeability of the sample can be found from the gradient of the fitted line, a, using Darcy's law."
   ]
  },
  {
   "cell_type": "code",
   "execution_count": 11,
   "id": "a64b1e12-ec90-414e-9ebd-07e193a01572",
   "metadata": {},
   "outputs": [
    {
     "data": {
      "text/plain": [
       "array([3.12601252e-16, 4.77170994e-16, 5.39996932e-15])"
      ]
     },
     "execution_count": 11,
     "metadata": {},
     "output_type": "execute_result"
    }
   ],
   "source": [
    "k = np.zeros(3) # Creates new empty array to hold the permeability values\n",
    "\n",
    "for i in range(len(k)):\n",
    "    k[i] = mu_N/a_values[i] # Calculates the permeability of each sample.\n",
    "k # Array holding the permeability of each sample"
   ]
  },
  {
   "cell_type": "markdown",
   "id": "f6d49ede-53f8-4aba-bd3d-14aa30aecd21",
   "metadata": {},
   "source": [
    "Now the permeability has been calculated from the raw measured data, each the data for each sample can be checked to see if a Forchheimer or Klinkenberg correction are required. See Appendix A5 for details on each correction."
   ]
  },
  {
   "cell_type": "markdown",
   "id": "65191210-d7c6-4975-8e33-d7d2b5bd4b94",
   "metadata": {},
   "source": [
    "# Forchheimer correction"
   ]
  },
  {
   "cell_type": "markdown",
   "id": "cd4133cb-6949-4707-9a60-323a202cb255",
   "metadata": {},
   "source": [
    "To check if the Forchheimer correction is required, the permeability (k_meas) first needs to be calculated from each data point for a sample, using Eq. 5.2."
   ]
  },
  {
   "cell_type": "code",
   "execution_count": 12,
   "id": "ddd9364f-5563-494c-b69d-40001bd17f59",
   "metadata": {},
   "outputs": [],
   "source": [
    "for i in range(3):\n",
    "    name = names[i] # Takes each of the samples in turn\n",
    "    # Calculates the Darcian permeability of each sample (Eq. 5.2)\n",
    "    name['k_meas'] = (name['Q_(m^3/s)']* mu_N)/(characteristics.iloc[i,6]*name['nabla_P'])"
   ]
  },
  {
   "cell_type": "markdown",
   "id": "b5e0c3a8-4152-4239-b4a8-ba2e1e430519",
   "metadata": {},
   "source": [
    "The need for the Forchheimer correction is checked by seeing if the fit between 1/k_meas and Q is linear. The y-intercept of a equation fitted to the linear portion of this curve is equal to the inverse of the Forchheimer corrected permeability (1/k_forch)"
   ]
  },
  {
   "cell_type": "code",
   "execution_count": 19,
   "id": "54c8e173-f086-4134-9705-8d68a108d0a9",
   "metadata": {},
   "outputs": [
    {
     "name": "stdout",
     "output_type": "stream",
     "text": [
      " a = 1.7105151573702452e+21, b = 3127520187282468.5, r^2 = 0.422\n",
      " a = 8.634595549555313e+20, b = 2041251323600802.8, r^2 = 0.837\n",
      " a = 4.4389758876701184e+18, b = 182870799652751.12, r^2 = 0.935\n"
     ]
    },
    {
     "data": {
      "image/png": "[encoded data removed]",
      "text/plain": [
       "<Figure size 1296x288 with 3 Axes>"
      ]
     },
     "metadata": {
      "needs_background": "light"
     },
     "output_type": "display_data"
    }
   ],
   "source": [
    "# Creates empty array to hold the values of b found, needed to find corrected permeability\n",
    "b_values = np.zeros(3)\n",
    "\n",
    "fig, axs = plt.subplots(1,3,figsize=[18,4]) # Creates subplots for each sample\n",
    "for i,name in enumerate(names): # Runs through each sample in a loop\n",
    "    # Plots Q against 1/k_meas for each sample\n",
    "    axs[i].scatter(name['Q_(m^3/s)'],1/(name['k_meas']), color='silver')\n",
    "    axs[i].set(xlabel='Q ($m^3s^{-1}$)', ylabel='${k_{meas}}^{-1}, m^{-2}$') # Adds axis labels\n",
    "    \n",
    "    a, b = np.polyfit(name['Q_(m^3/s)'],1/(name['k_meas']), 1) # Fits a straight line to the data\n",
    "    axs[i].plot(name['Q_(m^3/s)'], name['Q_(m^3/s)']*a+b, color='gray') # Plots the fitted line on the graph\n",
    "    \n",
    "    b_values[i] = b # Places b_value for each sample into the array\n",
    "    \n",
    "    # Finds the r value of the fit\n",
    "    corr_matrix = np.corrcoef(1/(name['k_meas']),a*name['Q_(m^3/s)']+b)\n",
    "    corr = corr_matrix[0,1]\n",
    "    R_sq = corr**2 # Square to find the r^2 value\n",
    "    \n",
    "    # Adds the value of R_sq as text on each subplot\n",
    "    axs[i].text(0.04,0.96,f'$r^2$ = {round(R_sq,3)}', ha='left', va='top', transform=axs[i].transAxes)\n",
    "    print(f' a = {a}, b = {b}, r^2 = {round(R_sq,3)}')"
   ]
  },
  {
   "cell_type": "markdown",
   "id": "53040af7-dfe7-4bb7-8cea-b104e32463a5",
   "metadata": {},
   "source": [
    "Here the first sample shows a low r^2 value, indicating that this does not require a Forchheimer correction. The other two samples show a stronger correlation and their Forchheimer corrected permeabilities can be found from the fit above.\n",
    "\n",
    "The permeability of the first sample that does not need correcting can be taken from above."
   ]
  },
  {
   "cell_type": "code",
   "execution_count": 23,
   "id": "c62c9754-cba5-4e09-beae-09834d5b36ad",
   "metadata": {},
   "outputs": [
    {
     "name": "stdout",
     "output_type": "stream",
     "text": [
      " The permeability of TF1_1 is 3.1260125179985756e-16 m^2\n"
     ]
    }
   ],
   "source": [
    "print(f' The permeability of TF1_1 is {k[0]} m^2')"
   ]
  },
  {
   "cell_type": "code",
   "execution_count": 27,
   "id": "a3cdaf69-5ed6-4597-878f-acf52852f341",
   "metadata": {},
   "outputs": [
    {
     "name": "stdout",
     "output_type": "stream",
     "text": [
      "The Forchheimer corrected permeability of the second two samples is 4.898955794605353e-16 m^2 for TF1_2 and 5.468341593621702e-15 m^2 for TF2_1.\n"
     ]
    }
   ],
   "source": [
    "k_forch = 1/b_values\n",
    "k_forch\n",
    "\n",
    "print(f'The Forchheimer corrected permeability of the second two samples is {k_forch[1]} m^2 for TF1_2 and {k_forch[2]} m^2 for TF2_1.')"
   ]
  },
  {
   "cell_type": "markdown",
   "id": "55c63168-cea4-48a8-937a-7635ff70a1f3",
   "metadata": {},
   "source": [
    "# Klinkenberg correction\n",
    "\n",
    "The data can also be checked to see if the Klinkenberg correction needs to be applied. To do this, the inverse of the mean pressure of each measurement needs to be calculated."
   ]
  },
  {
   "cell_type": "code",
   "execution_count": 28,
   "id": "7d99ea3b-ec91-4bf5-9a2e-aa16c6b6a1b1",
   "metadata": {},
   "outputs": [],
   "source": [
    "for name in names:\n",
    "    name['P_m'] = (name['P_up'] + P_atm)/2\n",
    "    name['P_m_inv'] = 1/name['P_m']"
   ]
  },
  {
   "cell_type": "code",
   "execution_count": 35,
   "id": "6631f27d-701b-4131-8ddd-274ceac4736f",
   "metadata": {},
   "outputs": [
    {
     "name": "stdout",
     "output_type": "stream",
     "text": [
      " a = 3.179797437684518e-12, b = 2.953279377312609e-16, r^2 = 0.348\n",
      " a = 6.222515697405162e-12, b = 4.4312534753800817e-16, r^2 = 0.786\n",
      " a = 3.455868675281651e-11, b = 5.192332387762109e-15, r^2 = 0.911\n"
     ]
    },
    {
     "data": {
      "image/png": "[encoded data removed]",
      "text/plain": [
       "<Figure size 1296x288 with 3 Axes>"
      ]
     },
     "metadata": {
      "needs_background": "light"
     },
     "output_type": "display_data"
    }
   ],
   "source": [
    "b_values_klink = np.zeros(3)\n",
    "\n",
    "fig, axs = plt.subplots(1,3,figsize=[18,4]) # Creates subplots for each sample\n",
    "for i,name in enumerate(names): # Runs through each sample in a loop\n",
    "    # Plots 1/P_m against k_meas for each sample\n",
    "    axs[i].scatter(name['P_m_inv'],name['k_meas'], color='silver')\n",
    "    axs[i].set(xlabel='${P_m}^{-1} (Pa^{-1}$)', ylabel='$k_{meas}, m^2$') # Adds axis labels\n",
    "    \n",
    "    a, b = np.polyfit(name['P_m_inv'],name['k_meas'], 1) # Fits a straight line to the data\n",
    "    axs[i].plot(name['P_m_inv'], name['P_m_inv']*a+b, color='gray') # Plots the fitted line on the graph\n",
    "    \n",
    "    b_values_klink[i] = b # Places b_value for each sample into the array\n",
    "    \n",
    "    # Finds the r value of the fit\n",
    "    corr_matrix = np.corrcoef(name['k_meas'],a*name['P_m_inv']+b)\n",
    "    corr = corr_matrix[0,1]\n",
    "    R_sq = corr**2 # Square to find the r^2 value\n",
    "    \n",
    "    # Adds the value of R_sq as text on each subplot\n",
    "    axs[i].text(0.04,0.96,f'$r^2$ = {round(R_sq,3)}', ha='left', va='top', transform=axs[i].transAxes)\n",
    "    print(f' a = {a}, b = {b}, r^2 = {round(R_sq,3)}')"
   ]
  },
  {
   "cell_type": "markdown",
   "id": "25aed9a5-a04a-4dcf-91a8-37175641dd6a",
   "metadata": {},
   "source": [
    "In the above data the first two samples do not show a strong correlation, suggesting that a Klinkenberg correction is only required for the third sample. The corrected permeability, k_klink, is given by the y-intercept of the best fit line above."
   ]
  },
  {
   "cell_type": "code",
   "execution_count": 36,
   "id": "878a7c93-ee69-432e-ba07-b0312ccc6c1e",
   "metadata": {},
   "outputs": [
    {
     "name": "stdout",
     "output_type": "stream",
     "text": [
      "The corrected permeability of the third sample is 5.192332387762109e-15 m^2\n"
     ]
    }
   ],
   "source": [
    "print(f'The corrected permeability of the third sample would be {b_values_klink[2]} m^2')"
   ]
  }
 ],
 "metadata": {
  "kernelspec": {
   "display_name": "Python 3 (ipykernel)",
   "language": "python",
   "name": "python3"
  },
  "language_info": {
   "codemirror_mode": {
    "name": "ipython",
    "version": 3
   },
   "file_extension": ".py",
   "mimetype": "text/x-python",
   "name": "python",
   "nbconvert_exporter": "python",
   "pygments_lexer": "ipython3",
   "version": "3.9.7"
  }
 },
 "nbformat": 4,
 "nbformat_minor": 5
}
